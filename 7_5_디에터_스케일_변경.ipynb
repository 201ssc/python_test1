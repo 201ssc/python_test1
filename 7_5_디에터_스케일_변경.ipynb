{
  "nbformat": 4,
  "nbformat_minor": 0,
  "metadata": {
    "colab": {
      "name": "7.5 디에터 스케일 변경.ipynb",
      "provenance": [],
      "authorship_tag": "ABX9TyM8QCcHOt7OSn0flF+DQabH",
      "include_colab_link": true
    },
    "kernelspec": {
      "name": "python3",
      "display_name": "Python 3"
    },
    "language_info": {
      "name": "python"
    }
  },
  "cells": [
    {
      "cell_type": "markdown",
      "metadata": {
        "id": "view-in-github",
        "colab_type": "text"
      },
      "source": [
        "<a href=\"https://colab.research.google.com/github/201ssc/python_test1/blob/main/7_5_%EB%94%94%EC%97%90%ED%84%B0_%EC%8A%A4%EC%BC%80%EC%9D%BC_%EB%B3%80%EA%B2%BD.ipynb\" target=\"_parent\"><img src=\"https://colab.research.google.com/assets/colab-badge.svg\" alt=\"Open In Colab\"/></a>"
      ]
    },
    {
      "cell_type": "code",
      "execution_count": 1,
      "metadata": {
        "colab": {
          "base_uri": "https://localhost:8080/"
        },
        "id": "t6ifzfUKGIin",
        "outputId": "4e980262-dfa5-4957-cda7-a59a0f3947e4"
      },
      "outputs": [
        {
          "output_type": "stream",
          "name": "stdout",
          "text": [
            "debconf: unable to initialize frontend: Dialog\n",
            "debconf: (No usable dialog-like program is installed, so the dialog based frontend cannot be used. at /usr/share/perl5/Debconf/FrontEnd/Dialog.pm line 76, <> line 1.)\n",
            "debconf: falling back to frontend: Readline\n",
            "debconf: unable to initialize frontend: Readline\n",
            "debconf: (This frontend requires a controlling tty.)\n",
            "debconf: falling back to frontend: Teletype\n",
            "dpkg-preconfigure: unable to re-open stdin: \n",
            "Selecting previously unselected package fonts-nanum.\n",
            "(Reading database ... 155676 files and directories currently installed.)\n",
            "Preparing to unpack .../fonts-nanum_20170925-1_all.deb ...\n",
            "Unpacking fonts-nanum (20170925-1) ...\n",
            "Setting up fonts-nanum (20170925-1) ...\n",
            "Processing triggers for fontconfig (2.12.6-0ubuntu2) ...\n"
          ]
        }
      ],
      "source": [
        "import os\n",
        "import sys\n",
        "#if 'google.colab' in sys.modules and not os.path.isdir('mglearn'):\n",
        "    # 사이킷런 최신 버전을 설치합니다.\n",
        "!pip install -q --upgrade scikit-learn\n",
        "# mglearn을 다운받고 압축을 풉니다.\n",
        "!wget -q -O mglearn.tar.gz https://bit.ly/mglearn-tar-gz\n",
        "!tar -xzf mglearn.tar.gz\n",
        "# 나눔 폰트를 설치합니다.\n",
        "!sudo apt-get -qq -y install fonts-nanum\n",
        "import matplotlib.font_manager as fm\n",
        "fm._rebuild()"
      ]
    },
    {
      "cell_type": "code",
      "source": [
        "import sklearn\n",
        "from preamble import *\n",
        "import matplotlib\n",
        "\n",
        "# 나눔 폰트를 사용합니다.\n",
        "matplotlib.rc('font', family='NanumBarunGothic')\n",
        "matplotlib.rcParams['axes.unicode_minus'] = False"
      ],
      "metadata": {
        "id": "ipT84NbGGWPU"
      },
      "execution_count": 2,
      "outputs": []
    },
    {
      "cell_type": "code",
      "source": [
        "import numpy as np\n",
        "import pandas as pd\n",
        "import matplotlib.pyplot as plt\n",
        "import mglearn\n",
        "import matplotlib\n",
        "\n",
        "from sklearn.model_selection import train_test_split\n",
        "from sklearn.model_selection import cross_val_score\n",
        "\n",
        "from sklearn.datasets import load_breast_cancer\n",
        "from sklearn.datasets import make_blobs\n",
        "from sklearn.datasets import make_moons\n",
        "from sklearn.datasets import load_digits\n",
        "from sklearn.datasets import load_iris\n",
        "\n",
        "from sklearn.compose import ColumnTransformer\n",
        "\n",
        "from sklearn.preprocessing import QuantileTransformer, StandardScaler, PowerTransformer\n",
        "from sklearn.preprocessing import OneHotEncoder\n",
        "\n",
        "from sklearn.linear_model import LogisticRegression\n",
        "from sklearn.tree import DecisionTreeRegressor\n",
        "from sklearn.ensemble import RandomForestRegressor\n",
        "from sklearn.linear_model import Ridge\n",
        "\n",
        "import warnings\n",
        "warnings.filterwarnings('ignore')\n",
        "import seaborn as sns\n",
        "sns.set(font_scale=3)\n",
        "sns.set(rc = {'figure.figsize':(10,6)})\n",
        "\n",
        "from pandas.core.common import random_state"
      ],
      "metadata": {
        "id": "CMsb2tkkGYni"
      },
      "execution_count": 3,
      "outputs": []
    },
    {
      "cell_type": "code",
      "source": [
        "import os.path\n",
        "\n",
        "if not os.path.isfile('data/aclImdb_v1.tar.gz'):\n",
        "  !wget -q http://ai.stanford.edu/~amaas/data/sentiment/aclImdb_v1.tar.gz -P data\n",
        "  !tar -xzf data/aclImdb_v1.tar.gz -C data\n",
        "    "
      ],
      "metadata": {
        "id": "9e_mwhLAGZEj"
      },
      "execution_count": 4,
      "outputs": []
    },
    {
      "cell_type": "code",
      "source": [
        "!find ./data -type d\n",
        "!rm -r data/aclImdb/train/unsup  ## 긍정 부정 레이블이 없는 데이터 삭제"
      ],
      "metadata": {
        "colab": {
          "base_uri": "https://localhost:8080/"
        },
        "id": "AJW4vIPCGZG7",
        "outputId": "9d235a1c-b478-42e0-b674-18b699d030b3"
      },
      "execution_count": 5,
      "outputs": [
        {
          "output_type": "stream",
          "name": "stdout",
          "text": [
            "./data\n",
            "./data/aclImdb\n",
            "./data/aclImdb/test\n",
            "./data/aclImdb/test/pos\n",
            "./data/aclImdb/test/neg\n",
            "./data/aclImdb/train\n",
            "./data/aclImdb/train/pos\n",
            "./data/aclImdb/train/neg\n",
            "./data/aclImdb/train/unsup\n"
          ]
        }
      ]
    },
    {
      "cell_type": "code",
      "source": [
        "from sklearn.datasets import load_files\n",
        "\n",
        "reviews_train = load_files(\"data/aclImdb/train/\")\n",
        "# 텍스트와 레이블을 포함하고 있는 Bunch 오브젝트를 반환합니다.\n",
        "text_train, y_train = reviews_train.data, reviews_train.target\n",
        "text_train = [doc.replace(b\"<br />\", b\" \") for doc in text_train]\n",
        "\n",
        "reviews_test = load_files(\"data/aclImdb/test/\")\n",
        "text_test, y_test = reviews_test.data, reviews_test.target\n",
        "\n",
        "from sklearn.feature_extraction.text import CountVectorizer\n",
        "vect = CountVectorizer() "
      ],
      "metadata": {
        "id": "hjoR0Np1GZNa"
      },
      "execution_count": 6,
      "outputs": []
    },
    {
      "cell_type": "code",
      "source": [
        "vect = CountVectorizer().fit(text_train)\n",
        "X_train = vect.transform(text_train)"
      ],
      "metadata": {
        "id": "o6ha7PubGZPq"
      },
      "execution_count": 7,
      "outputs": []
    },
    {
      "cell_type": "code",
      "source": [
        "from sklearn.model_selection import cross_val_score\n",
        "from sklearn.linear_model import LogisticRegression\n",
        "from sklearn.model_selection import GridSearchCV\n",
        "from sklearn.feature_extraction.text import ENGLISH_STOP_WORDS\n",
        "param_grid = {'C': [0.001, 0.01, 0.1, 1, 10]}"
      ],
      "metadata": {
        "id": "2DJ-P__HGZSZ"
      },
      "execution_count": 8,
      "outputs": []
    },
    {
      "cell_type": "markdown",
      "source": [
        "## 7.5 tf-idf로 데이터 스케일 변경하기\n",
        "\n",
        "중요하지 않아 보이는 특성을 제회하는 대신, 얼마나 의미 있는 특성인지를 계산해서 스케일을 조정하는 방식이 있다. tf-idf이다. tf-idf는 말뭉치의 다른 문서보다 특정 문서에 자주 나타나는 단어에 높은 가중치를 주는 방법이다. 한 단어가 특정 문서에 자주 나타나고 다른 여러 문서에서는 그렇지 않다면 그 문서의 내용을 아주 잘 설명하는 단어라고 볼 수 있다. sklearn 은 두개의 파이썬 클래스에 tf-idf를 구현했다. "
      ],
      "metadata": {
        "id": "hebnOuJ0GZUc"
      }
    },
    {
      "cell_type": "code",
      "source": [
        "from sklearn.feature_extraction.text import TfidfVectorizer\n",
        "from sklearn.pipeline import make_pipeline\n",
        "pipe = make_pipeline(TfidfVectorizer(min_df=5), LogisticRegression(max_iter=5000))\n",
        "param_grid = {'logisticregression__C': [-.001, 0.01, 0.1, 1, 10]}\n",
        "\n",
        "grid = GridSearchCV(pipe, param_grid, n_jobs=-1)\n",
        "grid.fit(text_train, y_train)\n",
        "print('최상의 교차 검증 점수: {:.2f}'.format(grid.best_score_))\n",
        "\n",
        "# tf_idf가 큰 영향을 주지 못했다.\n",
        "# 비지도 학습이라서 데이터를 보면 예상한 분류와 다른 모습을 띌 수 있다."
      ],
      "metadata": {
        "colab": {
          "base_uri": "https://localhost:8080/"
        },
        "id": "WdaZZrlTH0-s",
        "outputId": "4cec3fd2-e6c4-4abf-9427-ce55a82b64e9"
      },
      "execution_count": 9,
      "outputs": [
        {
          "output_type": "stream",
          "name": "stdout",
          "text": [
            "최상의 교차 검증 점수: 0.89\n"
          ]
        }
      ]
    },
    {
      "cell_type": "code",
      "source": [
        "vectorizer = grid.best_estimator_.named_steps[\"tfidfvectorizer\"]\n",
        "# 훈련 데이터셋을 변환한다.\n",
        "X_train = np.vectorizer.transform(text_train)\n",
        "# 특성별로 가장 큰 값을 찾는다.\n",
        "max_value = X_train.max(axis=0).toarray().ravel()\n",
        "sorted_by_tfidf = max_value.argsort()\n",
        "# 특성이름을 구한다.\n",
        "feature_names = np.array(vectorizer.get_feature_names_out())\n",
        "print(\"가장 낮은 tfidf를 가진 특성 :\\n\", feature_names[sorted_by_tfidf[:20]])\n",
        "print(\"가장 높은 tfidf를 가진 특성 :\\n\", feature_names[sorted_by_tfidf[-20:]])"
      ],
      "metadata": {
        "colab": {
          "base_uri": "https://localhost:8080/"
        },
        "id": "TxoqSDY5H1BJ",
        "outputId": "d4b7b621-be99-4e00-8c91-3c1d991ad3a7"
      },
      "execution_count": 13,
      "outputs": [
        {
          "output_type": "stream",
          "name": "stdout",
          "text": [
            "가장 낮은 tfidf를 가진 특성 :\n",
            " ['suplexes' 'gauche' 'hypocrites' 'oncoming' 'songwriting' 'galadriel'\n",
            " 'emerald' 'mclaughlin' 'sylvain' 'oversee' 'cataclysmic' 'pressuring'\n",
            " 'uphold' 'thieving' 'inconsiderate' 'ware' 'denim' 'reverting' 'booed'\n",
            " 'spacious']\n",
            "가장 높은 tfidf를 가진 특성 :\n",
            " ['gadget' 'sucks' 'zatoichi' 'demons' 'lennon' 'bye' 'dev' 'weller'\n",
            " 'sasquatch' 'botched' 'xica' 'darkman' 'woo' 'casper' 'doodlebops'\n",
            " 'smallville' 'wei' 'scanners' 'steve' 'pokemon']\n"
          ]
        }
      ]
    },
    {
      "cell_type": "code",
      "source": [
        ""
      ],
      "metadata": {
        "id": "gWPw3SDnH1Do"
      },
      "execution_count": null,
      "outputs": []
    },
    {
      "cell_type": "code",
      "source": [
        ""
      ],
      "metadata": {
        "id": "_mj4yUiNH1GE"
      },
      "execution_count": null,
      "outputs": []
    },
    {
      "cell_type": "code",
      "source": [
        ""
      ],
      "metadata": {
        "id": "ZcgTvT2yH1Il"
      },
      "execution_count": null,
      "outputs": []
    },
    {
      "cell_type": "code",
      "source": [
        ""
      ],
      "metadata": {
        "id": "GlPaIN-LH1LE"
      },
      "execution_count": null,
      "outputs": []
    }
  ]
}