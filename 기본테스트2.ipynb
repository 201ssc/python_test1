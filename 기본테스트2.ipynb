{
  "nbformat": 4,
  "nbformat_minor": 0,
  "metadata": {
    "colab": {
      "name": "기본테스트2.ipynb",
      "provenance": [],
      "collapsed_sections": [],
      "authorship_tag": "ABX9TyOIOWDOUhcR/vt84GroyX7/",
      "include_colab_link": true
    },
    "kernelspec": {
      "name": "python3",
      "display_name": "Python 3"
    },
    "language_info": {
      "name": "python"
    }
  },
  "cells": [
    {
      "cell_type": "markdown",
      "metadata": {
        "id": "view-in-github",
        "colab_type": "text"
      },
      "source": [
        "<a href=\"https://colab.research.google.com/github/201ssc/python_test1/blob/main/%EA%B8%B0%EB%B3%B8%ED%85%8C%EC%8A%A4%ED%8A%B82.ipynb\" target=\"_parent\"><img src=\"https://colab.research.google.com/assets/colab-badge.svg\" alt=\"Open In Colab\"/></a>"
      ]
    },
    {
      "cell_type": "markdown",
      "source": [
        "튜브가 활동하는 코딩 동아리에서는 전통적으로 해오는 게임이 있다. 이 게임은 여러 사람이 둥글게 앉아서 숫자를 하나씩 차례대로 말하는 게임인데, 규칙은 다음과 같다\n",
        "\n",
        "16\t16\t2\t1\t\"02468ACE11111111\"\n",
        "\n",
        "16\t16\t2\t2\t\"13579BDF01234567\"\n",
        "\n"
      ],
      "metadata": {
        "id": "Lz0BgcYYDhxV"
      }
    },
    {
      "cell_type": "code",
      "execution_count": null,
      "metadata": {
        "colab": {
          "base_uri": "https://localhost:8080/",
          "height": 253
        },
        "id": "dA9rF-HiDhGO",
        "outputId": "ed5b8b8f-f1d3-4c0f-8169-a9627218e67e"
      },
      "outputs": [
        {
          "output_type": "stream",
          "name": "stdout",
          "text": [
            "0\n",
            "01\n",
            "0110\n",
            "011011\n",
            "011011100\n",
            "011011100101\n",
            "011011100101110\n",
            "011011100101110111\n",
            "0110111001011101111000\n",
            "01101110010111011110001001\n",
            "011011100101110111100010011010\n",
            "0110111001011101111000100110101011\n"
          ]
        },
        {
          "output_type": "execute_result",
          "data": {
            "text/plain": [
              "'1100110111'"
            ],
            "application/vnd.google.colaboratory.intrinsic+json": {
              "type": "string"
            }
          },
          "metadata": {},
          "execution_count": 32
        }
      ],
      "source": [
        "# 변화량 X\n",
        "peo = 3 # 참가 인원\n",
        "tur = 10 # 나의 턴수\n",
        "sta = 2 # 나의 시작위치 3명중 두 번째\n",
        "\n",
        "# 결과값, 중간값 Y\n",
        "answer = '' # 내가 발언한 것\n",
        "temp = '' # n진수 변환을 저장할 temp\n",
        "num = 0\n",
        "\n",
        "while True:\n",
        "        temp += format(num, 'b') # converter 함수를 통해 0부터 계속 n진수로 변환함\n",
        "        num += 1 # 숫자를 1씩 올려줌 0부터 시작해서 1, 2, 3, 4를 하니까\n",
        "        print(temp)\n",
        "        if len(temp) > peo * tur: # 총 턴수 3 * 10 = 30\n",
        "            break\n",
        "\n",
        "for i in range(sta-1, len(temp), peo):\n",
        "        if tur == len(answer): # 10밴째 턴에서 내가 말헌 문장\n",
        "            break\n",
        "        else:\n",
        "            answer += temp[i] # 2 4 6 순으로 합함\n",
        "\n",
        "answer"
      ]
    },
    {
      "cell_type": "code",
      "source": [
        "list = []\n",
        "for i in range(0,50,2):\n",
        "  if len(''.join(list)) < 16:\n",
        "    a =format(i, 'x')\n",
        "    list.append(a)\n",
        "  else:\n",
        "    pass\n",
        "\n",
        "''.join(list)"
      ],
      "metadata": {
        "colab": {
          "base_uri": "https://localhost:8080/",
          "height": 35
        },
        "id": "14FY3uOZHcJU",
        "outputId": "2117d78b-3ee9-46de-d972-bfe40035023e"
      },
      "execution_count": null,
      "outputs": [
        {
          "output_type": "execute_result",
          "data": {
            "text/plain": [
              "'02468ace10121416'"
            ],
            "application/vnd.google.colaboratory.intrinsic+json": {
              "type": "string"
            }
          },
          "metadata": {},
          "execution_count": 16
        }
      ]
    },
    {
      "cell_type": "code",
      "source": [
        "\n",
        "alist = []\n",
        "for i in range(0,50,2):\n",
        "  if len(''.join(alist)) < 16:\n",
        "    a =format(i, 'x')\n",
        "    alist.append(a)\n",
        "    if len(a) > 1:\n",
        "      for j in range(i, 50, 1):\n",
        "        if len(''.join(alist)) < 16:\n",
        "          alist.append((format(j, 'x'))\n",
        "          \n",
        "\n",
        "    #      if len(''.join(list)) < 16:\n",
        "    #       list.append(int(format(j, 'x'))//10)\n",
        "    \n"
      ],
      "metadata": {
        "id": "YJidGSCoKIxL"
      },
      "execution_count": null,
      "outputs": []
    },
    {
      "cell_type": "code",
      "source": [
        ""
      ],
      "metadata": {
        "id": "uRQbBuzcN-rF"
      },
      "execution_count": null,
      "outputs": []
    },
    {
      "cell_type": "code",
      "source": [
        "a =format(20, 'x')\n",
        "int(format(20, 'x'))//10"
      ],
      "metadata": {
        "id": "QlxrDg98L2B8"
      },
      "execution_count": null,
      "outputs": []
    },
    {
      "cell_type": "code",
      "source": [
        "#진법 n, 미리 구할 숫자의 갯수 t, 게임에 참가하는 인원 m, 튜브의 순서 p 가 주어진다\n",
        "\n",
        "def converter(number, n):\n",
        "    T = '0123456789ABCDEF'\n",
        "    i, j = divmod(number, n) # 몫과 나머지\n",
        "    if i == 0:\n",
        "        return T[j]\n",
        "    else:\n",
        "        return converter(i , n) + T[j]\n",
        "\n",
        "def solution(n, t, m, p):\n",
        "    answer = '' # 튜브가 대답할것\n",
        "    temp = '' # n진수 변환을 저장할 temp\n",
        "    number = 0 # 0부터 시작하는 number\n",
        "    \n",
        "    while True:\n",
        "        temp += converter(number, n) \n",
        "        number += 1 \n",
        "        \n",
        "        if len(temp) > t * m: # 2명 10번째 > 20번째 숫자\n",
        "            break\n",
        "    \n",
        "    for i in range(p-1, len(temp), m): # number까지의 n진수를 구한 temp를 실제 튜브가 대답해야할 answer에 저장함, 튜브의 차례부터 시작 temp의 갯수까지 range를 보면되고, m은 몇명이서 하는지임\n",
        "            #  2번째, 몇번째, 2배수 순서 2,4,6,8,10//\n",
        "        if t == len(answer):\n",
        "            break\n",
        "        else:\n",
        "            answer += temp[i] # m 단위로 끈어서 함쳐줌\n",
        "    return answer\n",
        "\n",
        "a= solution(2, 16, 2, 2)\n",
        "a\n",
        "b =converter(10, 2)\n",
        "b[2\n",
        "\n",
        "]"
      ],
      "metadata": {
        "id": "AMqeCymFP-N_",
        "colab": {
          "base_uri": "https://localhost:8080/",
          "height": 35
        },
        "outputId": "220aaed4-aeaa-41cc-8d3a-fc2ae6b719f6"
      },
      "execution_count": null,
      "outputs": [
        {
          "output_type": "execute_result",
          "data": {
            "text/plain": [
              "'1'"
            ],
            "application/vnd.google.colaboratory.intrinsic+json": {
              "type": "string"
            }
          },
          "metadata": {},
          "execution_count": 11
        }
      ]
    },
    {
      "cell_type": "code",
      "source": [
        "converter(2, 16)"
      ],
      "metadata": {
        "colab": {
          "base_uri": "https://localhost:8080/",
          "height": 35
        },
        "id": "DT9RduKTP4dx",
        "outputId": "7e2cf8b4-ad15-4e79-86e6-8558bf5b6b61"
      },
      "execution_count": null,
      "outputs": [
        {
          "output_type": "execute_result",
          "data": {
            "text/plain": [
              "'2'"
            ],
            "application/vnd.google.colaboratory.intrinsic+json": {
              "type": "string"
            }
          },
          "metadata": {},
          "execution_count": 8
        }
      ]
    },
    {
      "cell_type": "code",
      "source": [
        "def plus(num):\n",
        "  u = num *2\n",
        "  return u\n",
        "\n",
        "temp = '' # n진수 변환을 저장할 temp\n",
        "num = 0\n",
        "while True:\n",
        "        temp += str(plus(num)) # converter 함수를 통해 0부터 계속 n진수로 변환함\n",
        "        num += 1 # 숫자를 1씩 올려줌 0부터 시작해서 1, 2, 3, 4를 하니까\n",
        "        print(temp)\n",
        "        if len(temp) > 10:\n",
        "            break"
      ],
      "metadata": {
        "colab": {
          "base_uri": "https://localhost:8080/"
        },
        "id": "Yc4evIBxRC4d",
        "outputId": "3852b50a-6823-466d-f708-432753217c2f"
      },
      "execution_count": null,
      "outputs": [
        {
          "output_type": "stream",
          "name": "stdout",
          "text": [
            "0\n",
            "02\n",
            "024\n",
            "0246\n",
            "02468\n",
            "0246810\n",
            "024681012\n",
            "02468101214\n"
          ]
        }
      ]
    }
  ]
}