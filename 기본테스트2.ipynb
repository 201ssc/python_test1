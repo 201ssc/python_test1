{
  "nbformat": 4,
  "nbformat_minor": 0,
  "metadata": {
    "colab": {
      "name": "기본테스트2.ipynb",
      "provenance": [],
      "collapsed_sections": [],
      "authorship_tag": "ABX9TyNMRd95aErIsyjBwn8dWymT",
      "include_colab_link": true
    },
    "kernelspec": {
      "name": "python3",
      "display_name": "Python 3"
    },
    "language_info": {
      "name": "python"
    }
  },
  "cells": [
    {
      "cell_type": "markdown",
      "metadata": {
        "id": "view-in-github",
        "colab_type": "text"
      },
      "source": [
        "<a href=\"https://colab.research.google.com/github/201ssc/python_test1/blob/main/%EA%B8%B0%EB%B3%B8%ED%85%8C%EC%8A%A4%ED%8A%B82.ipynb\" target=\"_parent\"><img src=\"https://colab.research.google.com/assets/colab-badge.svg\" alt=\"Open In Colab\"/></a>"
      ]
    },
    {
      "cell_type": "markdown",
      "source": [
        "튜브가 활동하는 코딩 동아리에서는 전통적으로 해오는 게임이 있다. 이 게임은 여러 사람이 둥글게 앉아서 숫자를 하나씩 차례대로 말하는 게임인데, 규칙은 다음과 같다\n",
        "\n",
        "16\t16\t2\t1\t\"02468ACE11111111\"\n",
        "\n",
        "16\t16\t2\t2\t\"13579BDF01234567\"\n",
        "\n"
      ],
      "metadata": {
        "id": "Lz0BgcYYDhxV"
      }
    },
    {
      "cell_type": "code",
      "execution_count": null,
      "metadata": {
        "colab": {
          "base_uri": "https://localhost:8080/"
        },
        "id": "dA9rF-HiDhGO",
        "outputId": "a33f2d38-5f65-48ab-95e8-90c679269d68"
      },
      "outputs": [
        {
          "output_type": "execute_result",
          "data": {
            "text/plain": [
              "['14', '15', '16', '17', '18']"
            ]
          },
          "metadata": {},
          "execution_count": 34
        }
      ],
      "source": [
        "list = []\n",
        "for i in range(20,25,1):\n",
        "  b=format(i, 'x')\n",
        "  list.append(b)\n",
        "list  \n",
        "#''.join(list)\n",
        "#format(42, 'b')\n"
      ]
    },
    {
      "cell_type": "code",
      "source": [
        "list = []\n",
        "for i in range(0,50,2):\n",
        "  if len(''.join(list)) < 16:\n",
        "    a =format(i, 'x')\n",
        "    list.append(a)\n",
        "  else:\n",
        "    pass\n",
        "\n",
        "''.join(list)"
      ],
      "metadata": {
        "colab": {
          "base_uri": "https://localhost:8080/",
          "height": 35
        },
        "id": "14FY3uOZHcJU",
        "outputId": "2117d78b-3ee9-46de-d972-bfe40035023e"
      },
      "execution_count": null,
      "outputs": [
        {
          "output_type": "execute_result",
          "data": {
            "text/plain": [
              "'02468ace10121416'"
            ],
            "application/vnd.google.colaboratory.intrinsic+json": {
              "type": "string"
            }
          },
          "metadata": {},
          "execution_count": 16
        }
      ]
    },
    {
      "cell_type": "code",
      "source": [
        "\n",
        "alist = []\n",
        "for i in range(0,50,2):\n",
        "  if len(''.join(alist)) < 16:\n",
        "    a =format(i, 'x')\n",
        "    alist.append(a)\n",
        "    if len(a) > 1:\n",
        "      for j in range(i, 50, 1):\n",
        "        if len(''.join(alist)) < 16:\n",
        "          alist.append((format(j, 'x'))\n",
        "          \n",
        "\n",
        "    #      if len(''.join(list)) < 16:\n",
        "    #       list.append(int(format(j, 'x'))//10)\n",
        "    \n"
      ],
      "metadata": {
        "id": "YJidGSCoKIxL"
      },
      "execution_count": null,
      "outputs": []
    },
    {
      "cell_type": "code",
      "source": [
        ""
      ],
      "metadata": {
        "id": "uRQbBuzcN-rF"
      },
      "execution_count": null,
      "outputs": []
    },
    {
      "cell_type": "code",
      "source": [
        "a =format(20, 'x')\n",
        "int(format(20, 'x'))//10"
      ],
      "metadata": {
        "id": "QlxrDg98L2B8"
      },
      "execution_count": null,
      "outputs": []
    },
    {
      "cell_type": "code",
      "source": [
        "#진법 n, 미리 구할 숫자의 갯수 t, 게임에 참가하는 인원 m, 튜브의 순서 p 가 주어진다\n",
        "\n",
        "def converter(number, n):\n",
        "    T = '0123456789ABCDEF'\n",
        "\n",
        "    i, j = divmod(number, n) # 몫과 나머지\n",
        "    if i == 0:\n",
        "        return T[j]\n",
        "    else:\n",
        "        return converter(i , n) + T[j]\n",
        "\n",
        "def solution(n, t, m, p):\n",
        "    answer = '' # 튜브가 대답할것\n",
        "    temp = '' # n진수 변환을 저장할 temp\n",
        "    number = 0 # 0부터 시작하는 number\n",
        "    \n",
        "    while True:\n",
        "        temp += converter(number, n) # converter 함수를 통해 0부터 계속 n진수로 변환함\n",
        "        number += 1 # 숫자를 1씩 올려줌 0부터 시작해서 1, 2, 3, 4를 하니까\n",
        "        \n",
        "        if len(temp) > t * m: # 만약 말해야할 숫자 * 인원수 만큼의 temp가 모이면 스탑, 왜냐하면 0부터 20까지로 정해놓은게 아니고, 몇명이서 게임하고, 튜브가 몇번째에 이야기를 해야하는지를 알아야하므로, 미기 구할 숫자t는 answer의 갯수임\n",
        "            break\n",
        "    \n",
        "    for i in range(p-1, len(temp), m): # number까지의 n진수를 구한 temp를 실제 튜브가 대답해야할 answer에 저장함, 튜브의 차례부터 시작 temp의 갯수까지 range를 보면되고, m은 몇명이서 하는지임\n",
        "            #  2번째, 몇번째, 2배수 순서 2,4,6,8,10//\n",
        "        if t == len(answer):\n",
        "            break\n",
        "        else:\n",
        "            answer += temp[i] # m 단위로 끈어서 함쳐줌\n",
        "    return answer"
      ],
      "metadata": {
        "id": "AMqeCymFP-N_"
      },
      "execution_count": 1,
      "outputs": []
    },
    {
      "cell_type": "code",
      "source": [
        "converter(2, 16)"
      ],
      "metadata": {
        "colab": {
          "base_uri": "https://localhost:8080/",
          "height": 35
        },
        "id": "DT9RduKTP4dx",
        "outputId": "7e2cf8b4-ad15-4e79-86e6-8558bf5b6b61"
      },
      "execution_count": 8,
      "outputs": [
        {
          "output_type": "execute_result",
          "data": {
            "text/plain": [
              "'2'"
            ],
            "application/vnd.google.colaboratory.intrinsic+json": {
              "type": "string"
            }
          },
          "metadata": {},
          "execution_count": 8
        }
      ]
    },
    {
      "cell_type": "code",
      "source": [
        "def plus(num):\n",
        "  u = num *2\n",
        "  return u\n",
        "\n",
        "temp = '' # n진수 변환을 저장할 temp\n",
        "num = 0\n",
        "while True:\n",
        "        temp += str(plus(num)) # converter 함수를 통해 0부터 계속 n진수로 변환함\n",
        "        num += 1 # 숫자를 1씩 올려줌 0부터 시작해서 1, 2, 3, 4를 하니까\n",
        "        print(temp)\n",
        "        if len(temp) > 10:\n",
        "            break"
      ],
      "metadata": {
        "colab": {
          "base_uri": "https://localhost:8080/"
        },
        "id": "Yc4evIBxRC4d",
        "outputId": "3852b50a-6823-466d-f708-432753217c2f"
      },
      "execution_count": 22,
      "outputs": [
        {
          "output_type": "stream",
          "name": "stdout",
          "text": [
            "0\n",
            "02\n",
            "024\n",
            "0246\n",
            "02468\n",
            "0246810\n",
            "024681012\n",
            "02468101214\n"
          ]
        }
      ]
    }
  ]
}