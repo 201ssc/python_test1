{
  "nbformat": 4,
  "nbformat_minor": 0,
  "metadata": {
    "colab": {
      "name": "7. 텍스트 데이터 다루기.ipynb",
      "provenance": [],
      "collapsed_sections": [],
      "toc_visible": true,
      "authorship_tag": "ABX9TyOwK9UtjBic91jKO9gN/tpj",
      "include_colab_link": true
    },
    "kernelspec": {
      "name": "python3",
      "display_name": "Python 3"
    },
    "language_info": {
      "name": "python"
    }
  },
  "cells": [
    {
      "cell_type": "markdown",
      "metadata": {
        "id": "view-in-github",
        "colab_type": "text"
      },
      "source": [
        "<a href=\"https://colab.research.google.com/github/201ssc/python_test1/blob/main/7_%ED%85%8D%EC%8A%A4%ED%8A%B8_%EB%8D%B0%EC%9D%B4%ED%84%B0_%EB%8B%A4%EB%A3%A8%EA%B8%B0.ipynb\" target=\"_parent\"><img src=\"https://colab.research.google.com/assets/colab-badge.svg\" alt=\"Open In Colab\"/></a>"
      ]
    },
    {
      "cell_type": "code",
      "source": [
        "!pip install mglearn"
      ],
      "metadata": {
        "colab": {
          "base_uri": "https://localhost:8080/"
        },
        "id": "stM0Kb1kj9I1",
        "outputId": "97b3acf1-7a6b-427a-f93e-e693986a60e7"
      },
      "execution_count": 1,
      "outputs": [
        {
          "output_type": "stream",
          "name": "stdout",
          "text": [
            "Looking in indexes: https://pypi.org/simple, https://us-python.pkg.dev/colab-wheels/public/simple/\n",
            "Collecting mglearn\n",
            "  Downloading mglearn-0.1.9.tar.gz (540 kB)\n",
            "\u001b[K     |████████████████████████████████| 540 kB 4.4 MB/s \n",
            "\u001b[?25hRequirement already satisfied: numpy in /usr/local/lib/python3.7/dist-packages (from mglearn) (1.21.6)\n",
            "Requirement already satisfied: matplotlib in /usr/local/lib/python3.7/dist-packages (from mglearn) (3.2.2)\n",
            "Requirement already satisfied: scikit-learn in /usr/local/lib/python3.7/dist-packages (from mglearn) (1.0.2)\n",
            "Requirement already satisfied: pandas in /usr/local/lib/python3.7/dist-packages (from mglearn) (1.3.5)\n",
            "Requirement already satisfied: pillow in /usr/local/lib/python3.7/dist-packages (from mglearn) (7.1.2)\n",
            "Requirement already satisfied: cycler in /usr/local/lib/python3.7/dist-packages (from mglearn) (0.11.0)\n",
            "Requirement already satisfied: imageio in /usr/local/lib/python3.7/dist-packages (from mglearn) (2.9.0)\n",
            "Requirement already satisfied: joblib in /usr/local/lib/python3.7/dist-packages (from mglearn) (1.1.0)\n",
            "Requirement already satisfied: python-dateutil>=2.1 in /usr/local/lib/python3.7/dist-packages (from matplotlib->mglearn) (2.8.2)\n",
            "Requirement already satisfied: pyparsing!=2.0.4,!=2.1.2,!=2.1.6,>=2.0.1 in /usr/local/lib/python3.7/dist-packages (from matplotlib->mglearn) (3.0.9)\n",
            "Requirement already satisfied: kiwisolver>=1.0.1 in /usr/local/lib/python3.7/dist-packages (from matplotlib->mglearn) (1.4.4)\n",
            "Requirement already satisfied: typing-extensions in /usr/local/lib/python3.7/dist-packages (from kiwisolver>=1.0.1->matplotlib->mglearn) (4.1.1)\n",
            "Requirement already satisfied: six>=1.5 in /usr/local/lib/python3.7/dist-packages (from python-dateutil>=2.1->matplotlib->mglearn) (1.15.0)\n",
            "Requirement already satisfied: pytz>=2017.3 in /usr/local/lib/python3.7/dist-packages (from pandas->mglearn) (2022.1)\n",
            "Requirement already satisfied: threadpoolctl>=2.0.0 in /usr/local/lib/python3.7/dist-packages (from scikit-learn->mglearn) (3.1.0)\n",
            "Requirement already satisfied: scipy>=1.1.0 in /usr/local/lib/python3.7/dist-packages (from scikit-learn->mglearn) (1.7.3)\n",
            "Building wheels for collected packages: mglearn\n",
            "  Building wheel for mglearn (setup.py) ... \u001b[?25l\u001b[?25hdone\n",
            "  Created wheel for mglearn: filename=mglearn-0.1.9-py2.py3-none-any.whl size=582639 sha256=9603df558a4657ae79060d9b93dade44ef1d17f46302404dfd5fc4f3a486b2b8\n",
            "  Stored in directory: /root/.cache/pip/wheels/f1/17/e1/1720d6dcd70187b6b6c3750cb3508798f2b1d57c9d3214b08b\n",
            "Successfully built mglearn\n",
            "Installing collected packages: mglearn\n",
            "Successfully installed mglearn-0.1.9\n"
          ]
        }
      ]
    },
    {
      "cell_type": "code",
      "source": [
        "import numpy as np\n",
        "import pandas as pd\n",
        "import matplotlib.pyplot as plt\n",
        "import mglearn\n",
        "import matplotlib\n",
        "\n",
        "from sklearn.model_selection import train_test_split\n",
        "from sklearn.model_selection import cross_val_score\n",
        "\n",
        "from sklearn.datasets import load_breast_cancer\n",
        "from sklearn.datasets import make_blobs\n",
        "from sklearn.datasets import make_moons\n",
        "from sklearn.datasets import load_digits\n",
        "from sklearn.datasets import load_iris\n",
        "\n",
        "from sklearn.compose import ColumnTransformer\n",
        "\n",
        "from sklearn.preprocessing import QuantileTransformer, StandardScaler, PowerTransformer\n",
        "from sklearn.preprocessing import OneHotEncoder\n",
        "\n",
        "from sklearn.linear_model import LogisticRegression\n",
        "from sklearn.tree import DecisionTreeRegressor\n",
        "from sklearn.ensemble import RandomForestRegressor\n",
        "from sklearn.linear_model import Ridge\n",
        "\n",
        "import warnings\n",
        "warnings.filterwarnings('ignore')\n",
        "import seaborn as sns\n",
        "sns.set(font_scale=3)\n",
        "sns.set(rc = {'figure.figsize':(10,6)})\n",
        "\n",
        "from pandas.core.common import random_state"
      ],
      "metadata": {
        "id": "FIGBwJUrj9Ld"
      },
      "execution_count": 2,
      "outputs": []
    },
    {
      "cell_type": "code",
      "source": [
        "# 노트북이 코랩에서 실행 중인지 체크합니다.\n",
        "import os\n",
        "import sys\n",
        "if 'google.colab' in sys.modules and not os.path.isdir('mglearn'):\n",
        "    # 사이킷런 최신 버전을 설치합니다.\n",
        "    !pip install -q --upgrade scikit-learn\n",
        "    # mglearn을 다운받고 압축을 풉니다.\n",
        "    !wget -q -O mglearn.tar.gz https://bit.ly/mglearn-tar-gz\n",
        "    !tar -xzf mglearn.tar.gz\n",
        "    !wget -q -O data.tar.gz https://bit.ly/data-tar-gz\n",
        "    !tar -xzf data.tar.gz\n",
        "    # 나눔 폰트를 설치합니다.\n",
        "    !sudo apt-get -qq -y install fonts-nanum\n",
        "    import matplotlib.font_manager as fm\n",
        "    fm._rebuild()\n",
        "\n",
        "import sklearn\n",
        "from preamble import *\n",
        "import matplotlib\n",
        "\n",
        "# 나눔 폰트를 사용합니다.\n",
        "matplotlib.rc('font', family='NanumBarunGothic')\n",
        "matplotlib.rcParams['axes.unicode_minus'] = False\n",
        "mglearn.plots.plot_threefold_split()"
      ],
      "metadata": {
        "colab": {
          "base_uri": "https://localhost:8080/",
          "height": 431
        },
        "id": "9GDWy_AGj9OA",
        "outputId": "001aaf42-8e7e-48c1-bb92-5efe6cc72c10"
      },
      "execution_count": 3,
      "outputs": [
        {
          "output_type": "stream",
          "name": "stdout",
          "text": [
            "debconf: unable to initialize frontend: Dialog\n",
            "debconf: (No usable dialog-like program is installed, so the dialog based frontend cannot be used. at /usr/share/perl5/Debconf/FrontEnd/Dialog.pm line 76, <> line 1.)\n",
            "debconf: falling back to frontend: Readline\n",
            "debconf: unable to initialize frontend: Readline\n",
            "debconf: (This frontend requires a controlling tty.)\n",
            "debconf: falling back to frontend: Teletype\n",
            "dpkg-preconfigure: unable to re-open stdin: \n",
            "Selecting previously unselected package fonts-nanum.\n",
            "(Reading database ... 155680 files and directories currently installed.)\n",
            "Preparing to unpack .../fonts-nanum_20170925-1_all.deb ...\n",
            "Unpacking fonts-nanum (20170925-1) ...\n",
            "Setting up fonts-nanum (20170925-1) ...\n",
            "Processing triggers for fontconfig (2.12.6-0ubuntu2) ...\n"
          ]
        },
        {
          "output_type": "stream",
          "name": "stderr",
          "text": [
            "WARNING:matplotlib.font_manager:findfont: Font family ['NanumBarunGothic'] not found. Falling back to DejaVu Sans.\n",
            "WARNING:matplotlib.font_manager:findfont: Font family ['NanumBarunGothic'] not found. Falling back to DejaVu Sans.\n"
          ]
        },
        {
          "output_type": "display_data",
          "data": {
            "text/plain": [
              "<Figure size 1500x100 with 1 Axes>"
            ],
            "image/png": "[encoded data removed]",
            "application/pdf": "[encoded data removed]"
          },
          "metadata": {}
        }
      ]
    },
    {
      "cell_type": "markdown",
      "source": [
        "4장에선 데이터 속성을 나타내는 두 가지 특성에 관해 이야기 했다. 정량적인 연속형 특성과 고정된 값인 범주형 특성. 많은 애플리케이션에서 사용하는 세번째 유형의 데이터가 있는데, 그건 텍스트이다. 회사에선 고객 메시지가 불만사항인지 문의사항인지 구분해야 할 때가 많다 . 메시지의 제목이나 내용으로 고객의 의도를 자동으로 파악해서 적절한 부서로 전달하거나, 완전 자동으로 응답할 수도 있다. \n",
        "\n",
        "\\\n",
        "텍스트 데이터는 주로 글자가 연결된 문자열로 표현된다. 텍스트 데이터의 길이는 서로 같은 경우가 거의 없다. 이런 특성은 이제까지 본 수치형 특성과 매우 다르므로 머신러닝 알고리즘에 적용하기 전에 전처리를 해야한다.\n",
        "\n",
        "### 7.1 문자열 데이터 타입\n",
        "텍스트 데이터를 처리하는 과정에 들어가기 전에, 자주 나타나는 몇 가지 텍스트 데이터에 대해 알아보자. 문자열 데이터는 4가지 종류가 있다.\n",
        "- 범주형 데이터\n",
        "- 범주에 의미를 연결시킬 수 있는 임의의 문자열\n",
        "- 구조화된 문자열 데이터\n",
        "- 텍스트 데이터\n",
        "\n",
        "\\\n",
        "**범주형 데이터**는 고정된 목록으로 구성된다. 예를 들어 선호하는 색깔(빨주노초파남보) 이 경우 데이터셋에 7개의 값중 하나가 들어가면 범주형 변수로 인코딩된다. 그리고 데이터셋에 고유값을 찾아 이 값들이 얼마나 자주 나타나는지 히스토그램을 그려볼 수 있다. 만약 설문이 절반정도 진행됐는데 누군가 '검정'을 '검점'으로 쓴 오타를 발견해서 설문을 수정했다면, 이 데이터셋에는 같은 의미를 나타내는 검정과 검점이 모두 들어 있으므로 두 값을 하나로 합쳐야한다.\n",
        "\n",
        "만약 선호하는 색을 묻기위해 드롭다운 메뉴가 이닌, 텍스트 필드를 제공했다고 보자. 어떤 사람은 철자를 틀리거나 회색이나 쥐색처럼 다르게 쓸수도 있다. 또 더 확실하고 구체적인 암청색이라고 쓸 수도 있다. 또한 '캘리포니아 해변 암초의 색' 처럼 사람들이 자기만의 이름을 붙이는 경우 자동 맵핑이 힘들다. 텍스트 필드로 받은 이런 응답에는 **범주에 의미를 연결시킬 수 있는 임의의 문자열**에 해당하는데, 이런 변수를 인코딩하려면 보편적인 값을 선택하든, 애플리케이션에 맞게 이런 응답을 포용할 수 있는 범주를 정의하는 게 최선이다. 여러 색의 경우라면 '여러가지색' 인코딩할 수 없는건 '그 외'라고 해야한다. 그렇기 때문에 범주형 변수로 받을 수 있는 것은 직접 입력받지 말라고 권한다.\n",
        "\n",
        "**구조**는 미리 정의된 범주에 속하지는 않지만 주소나 장소, 사람이름, 날짜. 전화번호, 식별번호처럼 일정한 구조를 가지는 것이다.\n",
        "\n",
        "**텍스트 테이터**는 트윗, 채팅, 호텔리뷰, 셰익스피어 작품 ,위키백과 문서, 구텐베르크 프로텍트, 50,000권의 전자책 등이 여기에 속한다.텍스트 분석에서는 데이터셋을 말뭉치라 하고, 하나의 텍스트를 의미하는 각 데이터 포인트를 문서라 한다. 이런 용어는 텍스트 데이터를 주로 다루는 정보검색과 자연어처리 공동체에서 유래했다."
      ],
      "metadata": {
        "id": "_2DjJcNBj9QR"
      }
    },
    {
      "cell_type": "markdown",
      "source": [
        "## 7.2 예제 앱: 영화 리뷰 감성 분석"
      ],
      "metadata": {
        "id": "8RKwlw-fj9S0"
      }
    },
    {
      "cell_type": "code",
      "source": [
        "import os.path\n",
        "\n",
        "if not os.path.isfile('data/aclImdb_v1.tar.gz'):\n",
        "    !wget -q http://ai.stanford.edu/~amaas/data/sentiment/aclImdb_v1.tar.gz -P data\n",
        "    !tar -xzf data/aclImdb_v1.tar.gz -C data"
      ],
      "metadata": {
        "id": "tmviHGivj9VU"
      },
      "execution_count": 5,
      "outputs": []
    },
    {
      "cell_type": "code",
      "source": [
        "# !은 셸(shell) 명령을 실행해주는 IPython의 매직 명령어입니다.\n",
        "# tree 명령이 없다면 find ./data -type d 명령을 사용해 하위 폴더의 목록을 \n",
        "# 볼 수 있습니다. 윈도에서는 !tree data/aclImdb 와 같이 사용하세요.\n",
        "#!tree -dL 2 data/aclImdb\n",
        "!find ./data -type d"
      ],
      "metadata": {
        "id": "I068nrZwj9Xs",
        "colab": {
          "base_uri": "https://localhost:8080/"
        },
        "outputId": "26e1f601-6a7a-4113-a9e5-8c291e6018fc"
      },
      "execution_count": 14,
      "outputs": [
        {
          "output_type": "stream",
          "name": "stdout",
          "text": [
            "./data\n",
            "./data/aclImdb\n",
            "./data/aclImdb/test\n",
            "./data/aclImdb/test/pos\n",
            "./data/aclImdb/test/neg\n",
            "./data/aclImdb/train\n",
            "./data/aclImdb/train/pos\n",
            "./data/aclImdb/train/neg\n"
          ]
        }
      ]
    },
    {
      "cell_type": "code",
      "source": [
        "!rm -r data/aclImdb/train/unsup  ## 긍정 부정 레이블이 없는 데이터 삭제"
      ],
      "metadata": {
        "id": "Q9f2vKsIgNIj"
      },
      "execution_count": 7,
      "outputs": []
    },
    {
      "cell_type": "code",
      "source": [
        "from sklearn.datasets import load_files\n",
        "\n",
        "reviews_train = load_files(\"data/aclImdb/train/\")\n",
        "# 텍스트와 레이블을 포함하고 있는 Bunch 오브젝트를 반환합니다.\n",
        "text_train, y_train = reviews_train.data, reviews_train.target\n",
        "print(\"text_train의 타입:\", type(text_train))\n",
        "print(\"text_train의 길이:\", len(text_train))\n",
        "print(\"text_train[6]:\\n\", text_train[6])"
      ],
      "metadata": {
        "colab": {
          "base_uri": "https://localhost:8080/"
        },
        "id": "GbkfHN3jgRFc",
        "outputId": "24f48b2e-2756-4f61-aac3-38ef6376d6ba"
      },
      "execution_count": 8,
      "outputs": [
        {
          "output_type": "stream",
          "name": "stdout",
          "text": [
            "text_train의 타입: <class 'list'>\n",
            "text_train의 길이: 25000\n",
            "text_train[6]:\n",
            " b\"This movie has a special way of telling the story, at first i found it rather odd as it jumped through time and I had no idea whats happening.<br /><br />Anyway the story line was although simple, but still very real and touching. You met someone the first time, you fell in love completely, but broke up at last and promoted a deadly agony. Who hasn't go through this? but we will never forget this kind of pain in our life. <br /><br />I would say i am rather touched as two actor has shown great performance in showing the love between the characters. I just wish that the story could be a happy ending.\"\n"
          ]
        }
      ]
    },
    {
      "cell_type": "code",
      "source": [
        "text_train = [doc.replace(b\"<br />\", b\" \") for doc in text_train]"
      ],
      "metadata": {
        "id": "XIOYV-ACgRH-"
      },
      "execution_count": 9,
      "outputs": []
    },
    {
      "cell_type": "code",
      "source": [
        "print(\"클래스별 샘플 수 (훈련 데이터):\", np.bincount(y_train))"
      ],
      "metadata": {
        "colab": {
          "base_uri": "https://localhost:8080/"
        },
        "id": "I4ef4os1gRKu",
        "outputId": "11b4614c-73f5-4df1-dfb8-8a08ebab33b9"
      },
      "execution_count": 10,
      "outputs": [
        {
          "output_type": "stream",
          "name": "stdout",
          "text": [
            "클래스별 샘플 수 (훈련 데이터): [12500 12500]\n"
          ]
        }
      ]
    },
    {
      "cell_type": "code",
      "source": [
        "text_train[7]"
      ],
      "metadata": {
        "id": "tOYP63FdgRNu"
      },
      "execution_count": null,
      "outputs": []
    },
    {
      "cell_type": "code",
      "source": [
        "reviews_test = load_files(\"data/aclImdb/test/\")\n",
        "text_test, y_test = reviews_test.data, reviews_test.target\n",
        "print('테스트 테이터의 문서 수:', len(text_test))\n",
        "print('클래스별 샘플 수 (테스트 데이터):', np.bincount(y_test))\n",
        "text_test = [doc.replace(b'<br />', b' ') for doc in text_test]"
      ],
      "metadata": {
        "colab": {
          "base_uri": "https://localhost:8080/"
        },
        "id": "2DlfVg8UgRP1",
        "outputId": "251998aa-abf6-4a0b-8684-3d93d066f816"
      },
      "execution_count": 18,
      "outputs": [
        {
          "output_type": "stream",
          "name": "stdout",
          "text": [
            "테스트 테이터의 문서 수: 25000\n",
            "클래스별 샘플 수 (테스트 데이터): [12500 12500]\n"
          ]
        }
      ]
    },
    {
      "cell_type": "markdown",
      "source": [
        "풀려는 문제는 다음과 같다. 리뷰 하나가 주어졌을때, 이 리뷰의 텍스트 내용을 보고 '양성'인지 '음성'인지 구분하는 것이다. 이는 전형적 인진 분류 문제이다. 그러나 텍스트 데이터는 머신러닝 모델이 다룰 수 있는 형태가 아니다. 그래서 텍스트의 문자열 표현을 머신러닝 알고리즘에 적용할 수 있도록 수치 표현으로 바꿔야 한다."
      ],
      "metadata": {
        "id": "0ixMr9IlgRSI"
      }
    },
    {
      "cell_type": "markdown",
      "source": [
        "## 7.3 텍스트 데이터를 BOW로 표현하기\n",
        "BOW는 널리쓰이는 방법이다. 쓰면 장, 문단, 문장, 서식 같은 입력 테스트의 구조 대부분을 잃고 각 단어가 이 말뭉치에 있는 텍스트에 얼마나 많이 나타나는지만 헤아린다. 구조와 상관없이 단어의 출현횟수만 세기때문에 텍스트를 담는 bag으로 생각할 수 있다.\n",
        "전체 말뭉치에 대핸 bow 표현을 계산하려면 다음 세 단계를 거친다.\n",
        "\n",
        "1. < 토큰화 > 각 문서를 문서에 포함된 단어(토큰)로 나눈다. 예를 들어 공백이나 구두점 등을 기준으로 나눈다.\n",
        "2. < 어휘 사전 구축 > 모든 문서에 나타난 모든 단어의 어휘를 모으고 번호를 매긴다.(알파벳순서)\n",
        "3. < 인코딩 > 어휘 사전의 단어가 문서마다 몇 번이나 나타나는지를 헤아린다.\n"
      ],
      "metadata": {
        "id": "OyTXgj77gRWf"
      }
    }
  ]
}