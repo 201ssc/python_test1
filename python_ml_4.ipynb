{
  "nbformat": 4,
  "nbformat_minor": 0,
  "metadata": {
    "colab": {
      "name": "python_ml_4.ipynb",
      "provenance": [],
      "collapsed_sections": [],
      "toc_visible": true,
      "authorship_tag": "ABX9TyO4R1nsHKavhfQ1wEhKebU7",
      "include_colab_link": true
    },
    "kernelspec": {
      "name": "python3",
      "display_name": "Python 3"
    },
    "language_info": {
      "name": "python"
    }
  },
  "cells": [
    {
      "cell_type": "markdown",
      "metadata": {
        "id": "view-in-github",
        "colab_type": "text"
      },
      "source": [
        "<a href=\"https://colab.research.google.com/github/201ssc/python_test1/blob/main/python_ml_4.ipynb\" target=\"_parent\"><img src=\"https://colab.research.google.com/assets/colab-badge.svg\" alt=\"Open In Colab\"/></a>"
      ]
    },
    {
      "cell_type": "markdown",
      "source": [
        "# 나이브 베이즈 분류기\n",
        "\n",
        "선형모델과 유사. LogisticRegression, LinerarSVC 같은 선형 분류기보다 훈련 속도가 빠른 편이지만, 그 대신 일반화 성능이 조금 뒤쳐진다.\n",
        "\n",
        "특징은, 각 특성을 개별로 취급해 파라미터를 학습하고 각 특성에서 클래스별 통계를 단순하게 취합한다.\n",
        "scikit-learn에 구현된 나이브 베이즈 분류기는 세 가지로 나뉜다.\n",
        "\n",
        "GaussianNB, BernoulliNB, MultinomialNB\n",
        "\n",
        "- 전자는 연속적인 데이터 적용\n",
        "- 중자는 이진 데이터\n",
        "- 후자는 카운트 데이터(문장에 나온 단어 카운트)\n",
        "\n",
        "즉 중,후자는 대부분 텍스트 데이터를 분류할 때 사용한다."
      ],
      "metadata": {
        "id": "EbLXjYs-dIGs"
      }
    },
    {
      "cell_type": "code",
      "source": [
        "!pip install mglearn"
      ],
      "metadata": {
        "colab": {
          "base_uri": "https://localhost:8080/"
        },
        "id": "_DTjAPtW7gUq",
        "outputId": "47503e4f-f9ee-46bb-88f2-2d21d6baf6a3"
      },
      "execution_count": 8,
      "outputs": [
        {
          "output_type": "stream",
          "name": "stdout",
          "text": [
            "Looking in indexes: https://pypi.org/simple, https://us-python.pkg.dev/colab-wheels/public/simple/\n",
            "Collecting mglearn\n",
            "  Downloading mglearn-0.1.9.tar.gz (540 kB)\n",
            "\u001b[K     |████████████████████████████████| 540 kB 5.2 MB/s \n",
            "\u001b[?25hRequirement already satisfied: numpy in /usr/local/lib/python3.7/dist-packages (from mglearn) (1.21.6)\n",
            "Requirement already satisfied: matplotlib in /usr/local/lib/python3.7/dist-packages (from mglearn) (3.2.2)\n",
            "Requirement already satisfied: scikit-learn in /usr/local/lib/python3.7/dist-packages (from mglearn) (1.0.2)\n",
            "Requirement already satisfied: pandas in /usr/local/lib/python3.7/dist-packages (from mglearn) (1.3.5)\n",
            "Requirement already satisfied: pillow in /usr/local/lib/python3.7/dist-packages (from mglearn) (7.1.2)\n",
            "Requirement already satisfied: cycler in /usr/local/lib/python3.7/dist-packages (from mglearn) (0.11.0)\n",
            "Requirement already satisfied: imageio in /usr/local/lib/python3.7/dist-packages (from mglearn) (2.4.1)\n",
            "Requirement already satisfied: joblib in /usr/local/lib/python3.7/dist-packages (from mglearn) (1.1.0)\n",
            "Requirement already satisfied: python-dateutil>=2.1 in /usr/local/lib/python3.7/dist-packages (from matplotlib->mglearn) (2.8.2)\n",
            "Requirement already satisfied: pyparsing!=2.0.4,!=2.1.2,!=2.1.6,>=2.0.1 in /usr/local/lib/python3.7/dist-packages (from matplotlib->mglearn) (3.0.9)\n",
            "Requirement already satisfied: kiwisolver>=1.0.1 in /usr/local/lib/python3.7/dist-packages (from matplotlib->mglearn) (1.4.3)\n",
            "Requirement already satisfied: typing-extensions in /usr/local/lib/python3.7/dist-packages (from kiwisolver>=1.0.1->matplotlib->mglearn) (4.1.1)\n",
            "Requirement already satisfied: six>=1.5 in /usr/local/lib/python3.7/dist-packages (from python-dateutil>=2.1->matplotlib->mglearn) (1.15.0)\n",
            "Requirement already satisfied: pytz>=2017.3 in /usr/local/lib/python3.7/dist-packages (from pandas->mglearn) (2022.1)\n",
            "Requirement already satisfied: scipy>=1.1.0 in /usr/local/lib/python3.7/dist-packages (from scikit-learn->mglearn) (1.7.3)\n",
            "Requirement already satisfied: threadpoolctl>=2.0.0 in /usr/local/lib/python3.7/dist-packages (from scikit-learn->mglearn) (3.1.0)\n",
            "Building wheels for collected packages: mglearn\n",
            "  Building wheel for mglearn (setup.py) ... \u001b[?25l\u001b[?25hdone\n",
            "  Created wheel for mglearn: filename=mglearn-0.1.9-py2.py3-none-any.whl size=582639 sha256=fcebf1af259d21466dcd7ce682d2cd374a63fec1c76e57d580bba1751f283013\n",
            "  Stored in directory: /root/.cache/pip/wheels/f1/17/e1/1720d6dcd70187b6b6c3750cb3508798f2b1d57c9d3214b08b\n",
            "Successfully built mglearn\n",
            "Installing collected packages: mglearn\n",
            "Successfully installed mglearn-0.1.9\n"
          ]
        }
      ]
    },
    {
      "cell_type": "code",
      "source": [
        "import numpy as np\n",
        "import matplotlib.pyplot as plt\n",
        "import mglearn\n",
        "\n",
        "import warnings\n",
        "warnings.filterwarnings('ignore')"
      ],
      "metadata": {
        "id": "T1LKa59ze8PW"
      },
      "execution_count": 9,
      "outputs": []
    },
    {
      "cell_type": "code",
      "execution_count": 2,
      "metadata": {
        "id": "7wa7hmDC8Q7C"
      },
      "outputs": [],
      "source": [
        "# BernoulliNB 예시, 특성중 0이 아닌 것 몇갠지 세기\n",
        "\n",
        "X = np.array([[0, 1, 0, 1],\n",
        "              [1, 0, 1, 1],\n",
        "              [0, 0, 0, 1],\n",
        "              [1, 0, 1, 0]])\n",
        "y = np.array([0, 1, 0 ,1])"
      ]
    },
    {
      "cell_type": "code",
      "source": [
        "counts = {}\n",
        "\n",
        "for label in np.unique(y):\n",
        "  # 각 클래스에 대해 반복\n",
        "  # 특성 마다 1 이 나타난 횟수를 센다.\n",
        "  counts[label] = X[y == label].sum(axis=0)\n",
        "  \n",
        "print(\"특성 카운트: \\n\", counts)"
      ],
      "metadata": {
        "colab": {
          "base_uri": "https://localhost:8080/"
        },
        "id": "BWfV74MNfWCr",
        "outputId": "3b825908-a557-42e1-eab1-8f5ec6b3b1ce"
      },
      "execution_count": 3,
      "outputs": [
        {
          "output_type": "stream",
          "name": "stdout",
          "text": [
            "특성 카운트: \n",
            " {0: array([0, 1, 0, 2]), 1: array([2, 0, 2, 1])}\n"
          ]
        }
      ]
    },
    {
      "cell_type": "code",
      "source": [
        "np.unique(y)\n",
        "# array([0, 1])"
      ],
      "metadata": {
        "colab": {
          "base_uri": "https://localhost:8080/"
        },
        "id": "t0UcxAWZf9qX",
        "outputId": "8fd6497e-83c2-45bf-d82e-51be8545da3d"
      },
      "execution_count": 4,
      "outputs": [
        {
          "output_type": "execute_result",
          "data": {
            "text/plain": [
              "array([0, 1])"
            ]
          },
          "metadata": {},
          "execution_count": 4
        }
      ]
    },
    {
      "cell_type": "markdown",
      "source": [
        "##결론\n",
        "\n",
        "GaussianNB 와 MultinomialNB는 계산하는 통계 데이터의 종류가 조금 다르다.\n",
        "Mult는 클래스별로 특성의 평균을 계산하고 Gaus는 클래스별로 각 특성과 분산과 평균을 저장한다.\n",
        "\n",
        "MultionmialNB 와 BernoulliNB는 모델의 복잡도를 조절하는 alpha 매개변수를 가지고 있지만, 성능향상에 크게 기여하진 않는다.\n",
        "\n",
        "GaussianNB는 대부분 고차원 데이터셋에 사용하고 다른 두갠 희소한 데이터를 카운트하는데 사용한다.\n",
        "\n",
        "나이브베이즈 모델과 선형 모델의 장단점은 비슷하다. 훈련과 예측속도가 빠르며 훈련 과정을 이해하기 쉽다. 너무 오래 걸리는 데이터셋의 경우 나이브 베이즈 모델을 시도해볼만 하다.\n",
        "\n"
      ],
      "metadata": {
        "id": "yf4RQkxktOU-"
      }
    },
    {
      "cell_type": "markdown",
      "source": [
        "# 결정 트리\n",
        "\n",
        "결정트리는 분류와 회귀문제에 널리 사용하는 모델이다. 학습은 질문을 이어 나가면서 한다. 질문은 스무고개 놀이의 \"예/아니오\" 질문과 비슷하다."
      ],
      "metadata": {
        "id": "qPKfoiuh5bkS"
      }
    },
    {
      "cell_type": "code",
      "source": [
        "mglearn.plots.plot_animal_tree()"
      ],
      "metadata": {
        "colab": {
          "base_uri": "https://localhost:8080/",
          "height": 248
        },
        "id": "ljdlrYXY7Fkw",
        "outputId": "9547edf9-5bbd-49c3-fca7-e970d3f84e5f"
      },
      "execution_count": 10,
      "outputs": [
        {
          "output_type": "display_data",
          "data": {
            "text/plain": [
              "<Figure size 432x288 with 1 Axes>"
            ],
            "image/png": "[encoded data removed]"
          },
          "metadata": {
            "needs_background": "light"
          }
        }
      ]
    },
    {
      "cell_type": "markdown",
      "source": [
        "## 결정 트리 만들기\n",
        "\n",
        "일반적인 트리만들기에서, 모든 리프 노드가 순수 노드가 될 때까지 진행하면서 모델이 매우 복잡해지는 경우가 생긴다. 즉 결정 경계가 멀리 떨어진 이상치 하나에 너무 민감하게 반응한다는 것이다. \n",
        "\n",
        "따라서 과대적합을 막는 두가지 방법이 있다. 사후 가지치기, 사전 가지치기\n",
        "\n",
        "scikit-learn에선 사전 가지치기만 지원한다다.\n",
        "- DecisionTreeRegreesor\n",
        "- DecisionTreeClassifier\n",
        "\n",
        "사전 가지치기란, 트리의 최대 깊이나 리프의 최대 개수를 제한하거나, 또는 노드가 분할하기 위한 포인트의 최소 개수를 지정하는 것이다."
      ],
      "metadata": {
        "id": "GybcaCv876H6"
      }
    },
    {
      "cell_type": "code",
      "source": [
        "from pandas.core.common import random_state\n",
        "from scipy.sparse.construct import random\n",
        "# 결정트리 / DecisionTreeClassifier / 유방암 데이터셋 / 가지치기 비교\n",
        "\n",
        "from sklearn.tree import DecisionTreeClassifier\n",
        "from sklearn.datasets import load_breast_cancer\n",
        "from sklearn.model_selection import train_test_split\n",
        "\n",
        "cancer = load_breast_cancer()\n",
        "X_train, X_test, y_train, y_test = train_test_split(\n",
        "  cancer.data, cancer.target, stratify=cancer.target, random_state=42)\n",
        "tree = DecisionTreeClassifier(random_state = 0)\n",
        "tree.fit(X_train, y_train)\n",
        "\n",
        "print(\"훈련 세트 정확도: {:.3f}\".format(tree.score(X_train, y_train)))\n",
        "print(\"테스트 세트 정확도: {:.3f}\".format(tree.score(X_test, y_test)))\n",
        "\n",
        "# 선형모델에서 정확도 95% 보다 낮다. 과대적합. 가지치기"
      ],
      "metadata": {
        "colab": {
          "base_uri": "https://localhost:8080/"
        },
        "id": "855VNYCC71Rj",
        "outputId": "6e79ebcf-02f8-4e47-9508-3118493a9801"
      },
      "execution_count": 13,
      "outputs": [
        {
          "output_type": "stream",
          "name": "stdout",
          "text": [
            "훈련 세트 정확도: 1.000\n",
            "테스트 세트 정확도: 0.937\n"
          ]
        }
      ]
    },
    {
      "cell_type": "code",
      "source": [
        "tree = DecisionTreeClassifier(max_depth= 4 ,random_state = 0)\n",
        "tree.fit(X_train, y_train)\n",
        "\n",
        "print(\"훈련 세트 정확도: {:.3f}\".format(tree.score(X_train, y_train)))\n",
        "print(\"테스트 세트 정확도: {:.3f}\".format(tree.score(X_test, y_test)))"
      ],
      "metadata": {
        "colab": {
          "base_uri": "https://localhost:8080/"
        },
        "id": "v-UpRe-oBpfV",
        "outputId": "c7516b6b-791f-4d3b-d66f-7031c0d90d91"
      },
      "execution_count": 14,
      "outputs": [
        {
          "output_type": "stream",
          "name": "stdout",
          "text": [
            "훈련 세트 정확도: 0.988\n",
            "테스트 세트 정확도: 0.951\n"
          ]
        }
      ]
    },
    {
      "cell_type": "markdown",
      "source": [
        "## 결정 트리 분석하기\n",
        "\n",
        "트리모듈 export_graphviz 를 사용하면 시각화 할 수 있다.\n",
        "(그 밖에도 .dot 파일을 읽을 수 있는 프로그램을 사용해도 된다)"
      ],
      "metadata": {
        "id": "ZA3IPzJzCEf1"
      }
    },
    {
      "cell_type": "code",
      "source": [
        "# .dot 파일 생성\n",
        "from sklearn.tree import export_graphviz\n",
        "export_graphviz(tree, out_file=\"tree.dot\", class_names=[\"악성\", \"양성\"], feature_names = cancer.feature_names, impurity=False, filled=True)\n",
        "\n",
        "\n",
        "# 파일 읽어서 시각화\n",
        "import graphviz\n",
        "\n",
        "with open(\"tree.dot\") as f:\n",
        "  dot_graph = f.read()\n",
        "display(graphviz.Source(dot_graph))"
      ],
      "metadata": {
        "colab": {
          "base_uri": "https://localhost:8080/",
          "height": 676
        },
        "id": "oitrubEBCcMO",
        "outputId": "fc58718f-8139-4de2-b8b4-d6b608a1c2e1"
      },
      "execution_count": 19,
      "outputs": [
        {
          "output_type": "display_data",
          "data": {
            "text/plain": [
              "<graphviz.files.Source at 0x7fea20dc7950>"
            ],
            "image/svg+xml": "<?xml version=\"1.0\" encoding=\"UTF-8\" standalone=\"no\"?>\n<!DOCTYPE svg PUBLIC \"-//W3C//DTD SVG 1.1//EN\"\n \"http://www.w3.org/Graphics/SVG/1.1/DTD/svg11.dtd\">\n<!-- Generated by graphviz version 2.40.1 (20161225.0304)\n -->\n<!-- Title: Tree Pages: 1 -->\n<svg width=\"1101pt\" height=\"477pt\"\n viewBox=\"0.00 0.00 1100.50 477.00\" xmlns=\"http://www.w3.org/2000/svg\" xmlns:xlink=\"http://www.w3.org/1999/xlink\">\n<g id=\"graph0\" class=\"graph\" transform=\"scale(1 1) rotate(0) translate(4 473)\">\n<title>Tree</title>\n<polygon fill=\"#ffffff\" stroke=\"transparent\" points=\"-4,4 -4,-473 1096.5,-473 1096.5,4 -4,4\"/>\n<!-- 0 -->\n<g id=\"node1\" class=\"node\">\n<title>0</title>\n<polygon fill=\"#afd7f4\" stroke=\"#000000\" points=\"698.5,-469 534.5,-469 534.5,-401 698.5,-401 698.5,-469\"/>\n<text text-anchor=\"middle\" x=\"616.5\" y=\"-453.8\" font-family=\"Helvetica,sans-Serif\" font-size=\"14.00\" fill=\"#000000\">worst radius &lt;= 16.795</text>\n<text text-anchor=\"middle\" x=\"616.5\" y=\"-438.8\" font-family=\"Helvetica,sans-Serif\" font-size=\"14.00\" fill=\"#000000\">samples = 426</text>\n<text text-anchor=\"middle\" x=\"616.5\" y=\"-423.8\" font-family=\"Helvetica,sans-Serif\" font-size=\"14.00\" fill=\"#000000\">value = [159, 267]</text>\n<text text-anchor=\"middle\" x=\"616.5\" y=\"-408.8\" font-family=\"Helvetica,sans-Serif\" font-size=\"14.00\" fill=\"#000000\">class = 양성</text>\n</g>\n<!-- 1 -->\n<g id=\"node2\" class=\"node\">\n<title>1</title>\n<polygon fill=\"#4ca6e8\" stroke=\"#000000\" points=\"607.5,-365 393.5,-365 393.5,-297 607.5,-297 607.5,-365\"/>\n<text text-anchor=\"middle\" x=\"500.5\" y=\"-349.8\" font-family=\"Helvetica,sans-Serif\" font-size=\"14.00\" fill=\"#000000\">worst concave points &lt;= 0.136</text>\n<text text-anchor=\"middle\" x=\"500.5\" y=\"-334.8\" font-family=\"Helvetica,sans-Serif\" font-size=\"14.00\" fill=\"#000000\">samples = 284</text>\n<text text-anchor=\"middle\" x=\"500.5\" y=\"-319.8\" font-family=\"Helvetica,sans-Serif\" font-size=\"14.00\" fill=\"#000000\">value = [25, 259]</text>\n<text text-anchor=\"middle\" x=\"500.5\" y=\"-304.8\" font-family=\"Helvetica,sans-Serif\" font-size=\"14.00\" fill=\"#000000\">class = 양성</text>\n</g>\n<!-- 0&#45;&gt;1 -->\n<g id=\"edge1\" class=\"edge\">\n<title>0&#45;&gt;1</title>\n<path fill=\"none\" stroke=\"#000000\" d=\"M578.5173,-400.9465C568.2023,-391.6986 556.9246,-381.5876 546.2301,-371.9994\"/>\n<polygon fill=\"#000000\" stroke=\"#000000\" points=\"548.3502,-369.1995 538.5681,-365.13 543.6774,-374.4115 548.3502,-369.1995\"/>\n<text text-anchor=\"middle\" x=\"539.9297\" y=\"-386.3929\" font-family=\"Helvetica,sans-Serif\" font-size=\"14.00\" fill=\"#000000\">True</text>\n</g>\n<!-- 14 -->\n<g id=\"node15\" class=\"node\">\n<title>14</title>\n<polygon fill=\"#e78945\" stroke=\"#000000\" points=\"789,-365 634,-365 634,-297 789,-297 789,-365\"/>\n<text text-anchor=\"middle\" x=\"711.5\" y=\"-349.8\" font-family=\"Helvetica,sans-Serif\" font-size=\"14.00\" fill=\"#000000\">texture error &lt;= 0.473</text>\n<text text-anchor=\"middle\" x=\"711.5\" y=\"-334.8\" font-family=\"Helvetica,sans-Serif\" font-size=\"14.00\" fill=\"#000000\">samples = 142</text>\n<text text-anchor=\"middle\" x=\"711.5\" y=\"-319.8\" font-family=\"Helvetica,sans-Serif\" font-size=\"14.00\" fill=\"#000000\">value = [134, 8]</text>\n<text text-anchor=\"middle\" x=\"711.5\" y=\"-304.8\" font-family=\"Helvetica,sans-Serif\" font-size=\"14.00\" fill=\"#000000\">class = 악성</text>\n</g>\n<!-- 0&#45;&gt;14 -->\n<g id=\"edge14\" class=\"edge\">\n<title>0&#45;&gt;14</title>\n<path fill=\"none\" stroke=\"#000000\" d=\"M647.6066,-400.9465C655.8901,-391.8782 664.9318,-381.9799 673.5379,-372.5585\"/>\n<polygon fill=\"#000000\" stroke=\"#000000\" points=\"676.1633,-374.8739 680.3236,-365.13 670.995,-370.1528 676.1633,-374.8739\"/>\n<text text-anchor=\"middle\" x=\"681.4531\" y=\"-386.4045\" font-family=\"Helvetica,sans-Serif\" font-size=\"14.00\" fill=\"#000000\">False</text>\n</g>\n<!-- 2 -->\n<g id=\"node3\" class=\"node\">\n<title>2</title>\n<polygon fill=\"#3c9fe5\" stroke=\"#000000\" points=\"388,-261 237,-261 237,-193 388,-193 388,-261\"/>\n<text text-anchor=\"middle\" x=\"312.5\" y=\"-245.8\" font-family=\"Helvetica,sans-Serif\" font-size=\"14.00\" fill=\"#000000\">radius error &lt;= 1.048</text>\n<text text-anchor=\"middle\" x=\"312.5\" y=\"-230.8\" font-family=\"Helvetica,sans-Serif\" font-size=\"14.00\" fill=\"#000000\">samples = 252</text>\n<text text-anchor=\"middle\" x=\"312.5\" y=\"-215.8\" font-family=\"Helvetica,sans-Serif\" font-size=\"14.00\" fill=\"#000000\">value = [4, 248]</text>\n<text text-anchor=\"middle\" x=\"312.5\" y=\"-200.8\" font-family=\"Helvetica,sans-Serif\" font-size=\"14.00\" fill=\"#000000\">class = 양성</text>\n</g>\n<!-- 1&#45;&gt;2 -->\n<g id=\"edge2\" class=\"edge\">\n<title>1&#45;&gt;2</title>\n<path fill=\"none\" stroke=\"#000000\" d=\"M438.9418,-296.9465C421.0883,-287.0701 401.4552,-276.2093 383.0944,-266.0522\"/>\n<polygon fill=\"#000000\" stroke=\"#000000\" points=\"384.6411,-262.908 374.1965,-261.13 381.2527,-269.0333 384.6411,-262.908\"/>\n</g>\n<!-- 7 -->\n<g id=\"node8\" class=\"node\">\n<title>7</title>\n<polygon fill=\"#f3c3a1\" stroke=\"#000000\" points=\"580.5,-261 420.5,-261 420.5,-193 580.5,-193 580.5,-261\"/>\n<text text-anchor=\"middle\" x=\"500.5\" y=\"-245.8\" font-family=\"Helvetica,sans-Serif\" font-size=\"14.00\" fill=\"#000000\">worst texture &lt;= 25.62</text>\n<text text-anchor=\"middle\" x=\"500.5\" y=\"-230.8\" font-family=\"Helvetica,sans-Serif\" font-size=\"14.00\" fill=\"#000000\">samples = 32</text>\n<text text-anchor=\"middle\" x=\"500.5\" y=\"-215.8\" font-family=\"Helvetica,sans-Serif\" font-size=\"14.00\" fill=\"#000000\">value = [21, 11]</text>\n<text text-anchor=\"middle\" x=\"500.5\" y=\"-200.8\" font-family=\"Helvetica,sans-Serif\" font-size=\"14.00\" fill=\"#000000\">class = 악성</text>\n</g>\n<!-- 1&#45;&gt;7 -->\n<g id=\"edge7\" class=\"edge\">\n<title>1&#45;&gt;7</title>\n<path fill=\"none\" stroke=\"#000000\" d=\"M500.5,-296.9465C500.5,-288.776 500.5,-279.9318 500.5,-271.3697\"/>\n<polygon fill=\"#000000\" stroke=\"#000000\" points=\"504.0001,-271.13 500.5,-261.13 497.0001,-271.13 504.0001,-271.13\"/>\n</g>\n<!-- 3 -->\n<g id=\"node4\" class=\"node\">\n<title>3</title>\n<polygon fill=\"#3b9ee5\" stroke=\"#000000\" points=\"245,-157 54,-157 54,-89 245,-89 245,-157\"/>\n<text text-anchor=\"middle\" x=\"149.5\" y=\"-141.8\" font-family=\"Helvetica,sans-Serif\" font-size=\"14.00\" fill=\"#000000\">smoothness error &lt;= 0.003</text>\n<text text-anchor=\"middle\" x=\"149.5\" y=\"-126.8\" font-family=\"Helvetica,sans-Serif\" font-size=\"14.00\" fill=\"#000000\">samples = 251</text>\n<text text-anchor=\"middle\" x=\"149.5\" y=\"-111.8\" font-family=\"Helvetica,sans-Serif\" font-size=\"14.00\" fill=\"#000000\">value = [3, 248]</text>\n<text text-anchor=\"middle\" x=\"149.5\" y=\"-96.8\" font-family=\"Helvetica,sans-Serif\" font-size=\"14.00\" fill=\"#000000\">class = 양성</text>\n</g>\n<!-- 2&#45;&gt;3 -->\n<g id=\"edge3\" class=\"edge\">\n<title>2&#45;&gt;3</title>\n<path fill=\"none\" stroke=\"#000000\" d=\"M259.1277,-192.9465C243.9298,-183.2497 227.2445,-172.6039 211.5763,-162.6069\"/>\n<polygon fill=\"#000000\" stroke=\"#000000\" points=\"213.305,-159.5582 202.9922,-157.13 209.5398,-165.4594 213.305,-159.5582\"/>\n</g>\n<!-- 6 -->\n<g id=\"node7\" class=\"node\">\n<title>6</title>\n<polygon fill=\"#e58139\" stroke=\"#000000\" points=\"362,-149.5 263,-149.5 263,-96.5 362,-96.5 362,-149.5\"/>\n<text text-anchor=\"middle\" x=\"312.5\" y=\"-134.3\" font-family=\"Helvetica,sans-Serif\" font-size=\"14.00\" fill=\"#000000\">samples = 1</text>\n<text text-anchor=\"middle\" x=\"312.5\" y=\"-119.3\" font-family=\"Helvetica,sans-Serif\" font-size=\"14.00\" fill=\"#000000\">value = [1, 0]</text>\n<text text-anchor=\"middle\" x=\"312.5\" y=\"-104.3\" font-family=\"Helvetica,sans-Serif\" font-size=\"14.00\" fill=\"#000000\">class = 악성</text>\n</g>\n<!-- 2&#45;&gt;6 -->\n<g id=\"edge6\" class=\"edge\">\n<title>2&#45;&gt;6</title>\n<path fill=\"none\" stroke=\"#000000\" d=\"M312.5,-192.9465C312.5,-182.2621 312.5,-170.4254 312.5,-159.5742\"/>\n<polygon fill=\"#000000\" stroke=\"#000000\" points=\"316.0001,-159.5421 312.5,-149.5422 309.0001,-159.5422 316.0001,-159.5421\"/>\n</g>\n<!-- 4 -->\n<g id=\"node5\" class=\"node\">\n<title>4</title>\n<polygon fill=\"#7bbeee\" stroke=\"#000000\" points=\"99,-53 0,-53 0,0 99,0 99,-53\"/>\n<text text-anchor=\"middle\" x=\"49.5\" y=\"-37.8\" font-family=\"Helvetica,sans-Serif\" font-size=\"14.00\" fill=\"#000000\">samples = 4</text>\n<text text-anchor=\"middle\" x=\"49.5\" y=\"-22.8\" font-family=\"Helvetica,sans-Serif\" font-size=\"14.00\" fill=\"#000000\">value = [1, 3]</text>\n<text text-anchor=\"middle\" x=\"49.5\" y=\"-7.8\" font-family=\"Helvetica,sans-Serif\" font-size=\"14.00\" fill=\"#000000\">class = 양성</text>\n</g>\n<!-- 3&#45;&gt;4 -->\n<g id=\"edge4\" class=\"edge\">\n<title>3&#45;&gt;4</title>\n<path fill=\"none\" stroke=\"#000000\" d=\"M114.2437,-88.9777C104.5649,-79.6376 94.0765,-69.5163 84.4168,-60.1947\"/>\n<polygon fill=\"#000000\" stroke=\"#000000\" points=\"86.8449,-57.674 77.2186,-53.2485 81.9841,-62.7111 86.8449,-57.674\"/>\n</g>\n<!-- 5 -->\n<g id=\"node6\" class=\"node\">\n<title>5</title>\n<polygon fill=\"#3b9ee5\" stroke=\"#000000\" points=\"233.5,-53 117.5,-53 117.5,0 233.5,0 233.5,-53\"/>\n<text text-anchor=\"middle\" x=\"175.5\" y=\"-37.8\" font-family=\"Helvetica,sans-Serif\" font-size=\"14.00\" fill=\"#000000\">samples = 247</text>\n<text text-anchor=\"middle\" x=\"175.5\" y=\"-22.8\" font-family=\"Helvetica,sans-Serif\" font-size=\"14.00\" fill=\"#000000\">value = [2, 245]</text>\n<text text-anchor=\"middle\" x=\"175.5\" y=\"-7.8\" font-family=\"Helvetica,sans-Serif\" font-size=\"14.00\" fill=\"#000000\">class = 양성</text>\n</g>\n<!-- 3&#45;&gt;5 -->\n<g id=\"edge5\" class=\"edge\">\n<title>3&#45;&gt;5</title>\n<path fill=\"none\" stroke=\"#000000\" d=\"M158.6666,-88.9777C160.9364,-80.5533 163.3774,-71.4934 165.6771,-62.9579\"/>\n<polygon fill=\"#000000\" stroke=\"#000000\" points=\"169.071,-63.8147 168.2932,-53.2485 162.3121,-61.9936 169.071,-63.8147\"/>\n</g>\n<!-- 8 -->\n<g id=\"node9\" class=\"node\">\n<title>8</title>\n<polygon fill=\"#7bbeee\" stroke=\"#000000\" points=\"575,-157 380,-157 380,-89 575,-89 575,-157\"/>\n<text text-anchor=\"middle\" x=\"477.5\" y=\"-141.8\" font-family=\"Helvetica,sans-Serif\" font-size=\"14.00\" fill=\"#000000\">worst smoothness &lt;= 0.179</text>\n<text text-anchor=\"middle\" x=\"477.5\" y=\"-126.8\" font-family=\"Helvetica,sans-Serif\" font-size=\"14.00\" fill=\"#000000\">samples = 12</text>\n<text text-anchor=\"middle\" x=\"477.5\" y=\"-111.8\" font-family=\"Helvetica,sans-Serif\" font-size=\"14.00\" fill=\"#000000\">value = [3, 9]</text>\n<text text-anchor=\"middle\" x=\"477.5\" y=\"-96.8\" font-family=\"Helvetica,sans-Serif\" font-size=\"14.00\" fill=\"#000000\">class = 양성</text>\n</g>\n<!-- 7&#45;&gt;8 -->\n<g id=\"edge8\" class=\"edge\">\n<title>7&#45;&gt;8</title>\n<path fill=\"none\" stroke=\"#000000\" d=\"M492.9689,-192.9465C491.1422,-184.6863 489.1631,-175.7374 487.2501,-167.0875\"/>\n<polygon fill=\"#000000\" stroke=\"#000000\" points=\"490.6248,-166.1383 485.048,-157.13 483.79,-167.6499 490.6248,-166.1383\"/>\n</g>\n<!-- 11 -->\n<g id=\"node12\" class=\"node\">\n<title>11</title>\n<polygon fill=\"#e88f4f\" stroke=\"#000000\" points=\"772,-157 593,-157 593,-89 772,-89 772,-157\"/>\n<text text-anchor=\"middle\" x=\"682.5\" y=\"-141.8\" font-family=\"Helvetica,sans-Serif\" font-size=\"14.00\" fill=\"#000000\">worst symmetry &lt;= 0.268</text>\n<text text-anchor=\"middle\" x=\"682.5\" y=\"-126.8\" font-family=\"Helvetica,sans-Serif\" font-size=\"14.00\" fill=\"#000000\">samples = 20</text>\n<text text-anchor=\"middle\" x=\"682.5\" y=\"-111.8\" font-family=\"Helvetica,sans-Serif\" font-size=\"14.00\" fill=\"#000000\">value = [18, 2]</text>\n<text text-anchor=\"middle\" x=\"682.5\" y=\"-96.8\" font-family=\"Helvetica,sans-Serif\" font-size=\"14.00\" fill=\"#000000\">class = 악성</text>\n</g>\n<!-- 7&#45;&gt;11 -->\n<g id=\"edge11\" class=\"edge\">\n<title>7&#45;&gt;11</title>\n<path fill=\"none\" stroke=\"#000000\" d=\"M560.0936,-192.9465C577.2202,-183.1599 596.0384,-172.4066 613.6735,-162.3294\"/>\n<polygon fill=\"#000000\" stroke=\"#000000\" points=\"615.8266,-165.1303 622.7725,-157.13 612.3536,-159.0526 615.8266,-165.1303\"/>\n</g>\n<!-- 9 -->\n<g id=\"node10\" class=\"node\">\n<title>9</title>\n<polygon fill=\"#4fa8e8\" stroke=\"#000000\" points=\"414.5,-53 310.5,-53 310.5,0 414.5,0 414.5,-53\"/>\n<text text-anchor=\"middle\" x=\"362.5\" y=\"-37.8\" font-family=\"Helvetica,sans-Serif\" font-size=\"14.00\" fill=\"#000000\">samples = 10</text>\n<text text-anchor=\"middle\" x=\"362.5\" y=\"-22.8\" font-family=\"Helvetica,sans-Serif\" font-size=\"14.00\" fill=\"#000000\">value = [1, 9]</text>\n<text text-anchor=\"middle\" x=\"362.5\" y=\"-7.8\" font-family=\"Helvetica,sans-Serif\" font-size=\"14.00\" fill=\"#000000\">class = 양성</text>\n</g>\n<!-- 8&#45;&gt;9 -->\n<g id=\"edge9\" class=\"edge\">\n<title>8&#45;&gt;9</title>\n<path fill=\"none\" stroke=\"#000000\" d=\"M436.9553,-88.9777C425.7155,-79.546 413.5264,-69.3178 402.3279,-59.9208\"/>\n<polygon fill=\"#000000\" stroke=\"#000000\" points=\"404.2866,-56.9954 394.3764,-53.2485 399.787,-62.3576 404.2866,-56.9954\"/>\n</g>\n<!-- 10 -->\n<g id=\"node11\" class=\"node\">\n<title>10</title>\n<polygon fill=\"#e58139\" stroke=\"#000000\" points=\"532,-53 433,-53 433,0 532,0 532,-53\"/>\n<text text-anchor=\"middle\" x=\"482.5\" y=\"-37.8\" font-family=\"Helvetica,sans-Serif\" font-size=\"14.00\" fill=\"#000000\">samples = 2</text>\n<text text-anchor=\"middle\" x=\"482.5\" y=\"-22.8\" font-family=\"Helvetica,sans-Serif\" font-size=\"14.00\" fill=\"#000000\">value = [2, 0]</text>\n<text text-anchor=\"middle\" x=\"482.5\" y=\"-7.8\" font-family=\"Helvetica,sans-Serif\" font-size=\"14.00\" fill=\"#000000\">class = 악성</text>\n</g>\n<!-- 8&#45;&gt;10 -->\n<g id=\"edge10\" class=\"edge\">\n<title>8&#45;&gt;10</title>\n<path fill=\"none\" stroke=\"#000000\" d=\"M479.2628,-88.9777C479.6946,-80.6449 480.1585,-71.6903 480.5966,-63.2364\"/>\n<polygon fill=\"#000000\" stroke=\"#000000\" points=\"484.0918,-63.4162 481.1141,-53.2485 477.1012,-63.0539 484.0918,-63.4162\"/>\n</g>\n<!-- 12 -->\n<g id=\"node13\" class=\"node\">\n<title>12</title>\n<polygon fill=\"#9ccef2\" stroke=\"#000000\" points=\"668,-53 569,-53 569,0 668,0 668,-53\"/>\n<text text-anchor=\"middle\" x=\"618.5\" y=\"-37.8\" font-family=\"Helvetica,sans-Serif\" font-size=\"14.00\" fill=\"#000000\">samples = 3</text>\n<text text-anchor=\"middle\" x=\"618.5\" y=\"-22.8\" font-family=\"Helvetica,sans-Serif\" font-size=\"14.00\" fill=\"#000000\">value = [1, 2]</text>\n<text text-anchor=\"middle\" x=\"618.5\" y=\"-7.8\" font-family=\"Helvetica,sans-Serif\" font-size=\"14.00\" fill=\"#000000\">class = 양성</text>\n</g>\n<!-- 11&#45;&gt;12 -->\n<g id=\"edge12\" class=\"edge\">\n<title>11&#45;&gt;12</title>\n<path fill=\"none\" stroke=\"#000000\" d=\"M659.936,-88.9777C654.1059,-80.187 647.8169,-70.7044 641.943,-61.8477\"/>\n<polygon fill=\"#000000\" stroke=\"#000000\" points=\"644.6838,-59.6478 636.2399,-53.2485 638.8502,-63.5167 644.6838,-59.6478\"/>\n</g>\n<!-- 13 -->\n<g id=\"node14\" class=\"node\">\n<title>13</title>\n<polygon fill=\"#e58139\" stroke=\"#000000\" points=\"793,-53 686,-53 686,0 793,0 793,-53\"/>\n<text text-anchor=\"middle\" x=\"739.5\" y=\"-37.8\" font-family=\"Helvetica,sans-Serif\" font-size=\"14.00\" fill=\"#000000\">samples = 17</text>\n<text text-anchor=\"middle\" x=\"739.5\" y=\"-22.8\" font-family=\"Helvetica,sans-Serif\" font-size=\"14.00\" fill=\"#000000\">value = [17, 0]</text>\n<text text-anchor=\"middle\" x=\"739.5\" y=\"-7.8\" font-family=\"Helvetica,sans-Serif\" font-size=\"14.00\" fill=\"#000000\">class = 악성</text>\n</g>\n<!-- 11&#45;&gt;13 -->\n<g id=\"edge13\" class=\"edge\">\n<title>11&#45;&gt;13</title>\n<path fill=\"none\" stroke=\"#000000\" d=\"M702.5961,-88.9777C707.7344,-80.2786 713.273,-70.9018 718.4575,-62.1247\"/>\n<polygon fill=\"#000000\" stroke=\"#000000\" points=\"721.6281,-63.6387 723.7004,-53.2485 715.601,-60.0786 721.6281,-63.6387\"/>\n</g>\n<!-- 15 -->\n<g id=\"node16\" class=\"node\">\n<title>15</title>\n<polygon fill=\"#399de5\" stroke=\"#000000\" points=\"761,-253.5 662,-253.5 662,-200.5 761,-200.5 761,-253.5\"/>\n<text text-anchor=\"middle\" x=\"711.5\" y=\"-238.3\" font-family=\"Helvetica,sans-Serif\" font-size=\"14.00\" fill=\"#000000\">samples = 5</text>\n<text text-anchor=\"middle\" x=\"711.5\" y=\"-223.3\" font-family=\"Helvetica,sans-Serif\" font-size=\"14.00\" fill=\"#000000\">value = [0, 5]</text>\n<text text-anchor=\"middle\" x=\"711.5\" y=\"-208.3\" font-family=\"Helvetica,sans-Serif\" font-size=\"14.00\" fill=\"#000000\">class = 양성</text>\n</g>\n<!-- 14&#45;&gt;15 -->\n<g id=\"edge15\" class=\"edge\">\n<title>14&#45;&gt;15</title>\n<path fill=\"none\" stroke=\"#000000\" d=\"M711.5,-296.9465C711.5,-286.2621 711.5,-274.4254 711.5,-263.5742\"/>\n<polygon fill=\"#000000\" stroke=\"#000000\" points=\"715.0001,-263.5421 711.5,-253.5422 708.0001,-263.5422 715.0001,-263.5421\"/>\n</g>\n<!-- 16 -->\n<g id=\"node17\" class=\"node\">\n<title>16</title>\n<polygon fill=\"#e6843d\" stroke=\"#000000\" points=\"963,-261 786,-261 786,-193 963,-193 963,-261\"/>\n<text text-anchor=\"middle\" x=\"874.5\" y=\"-245.8\" font-family=\"Helvetica,sans-Serif\" font-size=\"14.00\" fill=\"#000000\">worst concavity &lt;= 0.191</text>\n<text text-anchor=\"middle\" x=\"874.5\" y=\"-230.8\" font-family=\"Helvetica,sans-Serif\" font-size=\"14.00\" fill=\"#000000\">samples = 137</text>\n<text text-anchor=\"middle\" x=\"874.5\" y=\"-215.8\" font-family=\"Helvetica,sans-Serif\" font-size=\"14.00\" fill=\"#000000\">value = [134, 3]</text>\n<text text-anchor=\"middle\" x=\"874.5\" y=\"-200.8\" font-family=\"Helvetica,sans-Serif\" font-size=\"14.00\" fill=\"#000000\">class = 악성</text>\n</g>\n<!-- 14&#45;&gt;16 -->\n<g id=\"edge16\" class=\"edge\">\n<title>14&#45;&gt;16</title>\n<path fill=\"none\" stroke=\"#000000\" d=\"M764.8723,-296.9465C780.0702,-287.2497 796.7555,-276.6039 812.4237,-266.6069\"/>\n<polygon fill=\"#000000\" stroke=\"#000000\" points=\"814.4602,-269.4594 821.0078,-261.13 810.695,-263.5582 814.4602,-269.4594\"/>\n</g>\n<!-- 17 -->\n<g id=\"node18\" class=\"node\">\n<title>17</title>\n<polygon fill=\"#bddef6\" stroke=\"#000000\" points=\"958.5,-157 790.5,-157 790.5,-89 958.5,-89 958.5,-157\"/>\n<text text-anchor=\"middle\" x=\"874.5\" y=\"-141.8\" font-family=\"Helvetica,sans-Serif\" font-size=\"14.00\" fill=\"#000000\">worst texture &lt;= 30.975</text>\n<text text-anchor=\"middle\" x=\"874.5\" y=\"-126.8\" font-family=\"Helvetica,sans-Serif\" font-size=\"14.00\" fill=\"#000000\">samples = 5</text>\n<text text-anchor=\"middle\" x=\"874.5\" y=\"-111.8\" font-family=\"Helvetica,sans-Serif\" font-size=\"14.00\" fill=\"#000000\">value = [2, 3]</text>\n<text text-anchor=\"middle\" x=\"874.5\" y=\"-96.8\" font-family=\"Helvetica,sans-Serif\" font-size=\"14.00\" fill=\"#000000\">class = 양성</text>\n</g>\n<!-- 16&#45;&gt;17 -->\n<g id=\"edge17\" class=\"edge\">\n<title>16&#45;&gt;17</title>\n<path fill=\"none\" stroke=\"#000000\" d=\"M874.5,-192.9465C874.5,-184.776 874.5,-175.9318 874.5,-167.3697\"/>\n<polygon fill=\"#000000\" stroke=\"#000000\" points=\"878.0001,-167.13 874.5,-157.13 871.0001,-167.13 878.0001,-167.13\"/>\n</g>\n<!-- 20 -->\n<g id=\"node21\" class=\"node\">\n<title>20</title>\n<polygon fill=\"#e58139\" stroke=\"#000000\" points=\"1092.5,-149.5 976.5,-149.5 976.5,-96.5 1092.5,-96.5 1092.5,-149.5\"/>\n<text text-anchor=\"middle\" x=\"1034.5\" y=\"-134.3\" font-family=\"Helvetica,sans-Serif\" font-size=\"14.00\" fill=\"#000000\">samples = 132</text>\n<text text-anchor=\"middle\" x=\"1034.5\" y=\"-119.3\" font-family=\"Helvetica,sans-Serif\" font-size=\"14.00\" fill=\"#000000\">value = [132, 0]</text>\n<text text-anchor=\"middle\" x=\"1034.5\" y=\"-104.3\" font-family=\"Helvetica,sans-Serif\" font-size=\"14.00\" fill=\"#000000\">class = 악성</text>\n</g>\n<!-- 16&#45;&gt;20 -->\n<g id=\"edge20\" class=\"edge\">\n<title>16&#45;&gt;20</title>\n<path fill=\"none\" stroke=\"#000000\" d=\"M926.89,-192.9465C945.6153,-180.775 966.641,-167.1084 985.1053,-155.1066\"/>\n<polygon fill=\"#000000\" stroke=\"#000000\" points=\"987.1889,-157.9267 993.6659,-149.5422 983.374,-152.0575 987.1889,-157.9267\"/>\n</g>\n<!-- 18 -->\n<g id=\"node19\" class=\"node\">\n<title>18</title>\n<polygon fill=\"#399de5\" stroke=\"#000000\" points=\"919,-53 820,-53 820,0 919,0 919,-53\"/>\n<text text-anchor=\"middle\" x=\"869.5\" y=\"-37.8\" font-family=\"Helvetica,sans-Serif\" font-size=\"14.00\" fill=\"#000000\">samples = 3</text>\n<text text-anchor=\"middle\" x=\"869.5\" y=\"-22.8\" font-family=\"Helvetica,sans-Serif\" font-size=\"14.00\" fill=\"#000000\">value = [0, 3]</text>\n<text text-anchor=\"middle\" x=\"869.5\" y=\"-7.8\" font-family=\"Helvetica,sans-Serif\" font-size=\"14.00\" fill=\"#000000\">class = 양성</text>\n</g>\n<!-- 17&#45;&gt;18 -->\n<g id=\"edge18\" class=\"edge\">\n<title>17&#45;&gt;18</title>\n<path fill=\"none\" stroke=\"#000000\" d=\"M872.7372,-88.9777C872.3054,-80.6449 871.8415,-71.6903 871.4034,-63.2364\"/>\n<polygon fill=\"#000000\" stroke=\"#000000\" points=\"874.8988,-63.0539 870.8859,-53.2485 867.9082,-63.4162 874.8988,-63.0539\"/>\n</g>\n<!-- 19 -->\n<g id=\"node20\" class=\"node\">\n<title>19</title>\n<polygon fill=\"#e58139\" stroke=\"#000000\" points=\"1036,-53 937,-53 937,0 1036,0 1036,-53\"/>\n<text text-anchor=\"middle\" x=\"986.5\" y=\"-37.8\" font-family=\"Helvetica,sans-Serif\" font-size=\"14.00\" fill=\"#000000\">samples = 2</text>\n<text text-anchor=\"middle\" x=\"986.5\" y=\"-22.8\" font-family=\"Helvetica,sans-Serif\" font-size=\"14.00\" fill=\"#000000\">value = [2, 0]</text>\n<text text-anchor=\"middle\" x=\"986.5\" y=\"-7.8\" font-family=\"Helvetica,sans-Serif\" font-size=\"14.00\" fill=\"#000000\">class = 악성</text>\n</g>\n<!-- 17&#45;&gt;19 -->\n<g id=\"edge19\" class=\"edge\">\n<title>17&#45;&gt;19</title>\n<path fill=\"none\" stroke=\"#000000\" d=\"M913.987,-88.9777C924.9336,-79.546 936.8047,-69.3178 947.7111,-59.9208\"/>\n<polygon fill=\"#000000\" stroke=\"#000000\" points=\"950.1639,-62.4274 955.4551,-53.2485 945.5947,-57.1244 950.1639,-62.4274\"/>\n</g>\n</g>\n</svg>\n"
          },
          "metadata": {}
        }
      ]
    }
  ]
}