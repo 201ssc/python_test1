{
  "nbformat": 4,
  "nbformat_minor": 0,
  "metadata": {
    "colab": {
      "name": "python_ml_4.ipynb",
      "provenance": [],
      "collapsed_sections": [],
      "authorship_tag": "ABX9TyP95QwYI+HwbV3RKCSjLwmW",
      "include_colab_link": true
    },
    "kernelspec": {
      "name": "python3",
      "display_name": "Python 3"
    },
    "language_info": {
      "name": "python"
    }
  },
  "cells": [
    {
      "cell_type": "markdown",
      "metadata": {
        "id": "view-in-github",
        "colab_type": "text"
      },
      "source": [
        "<a href=\"https://colab.research.google.com/github/201ssc/python_test1/blob/main/python_ml_4.ipynb\" target=\"_parent\"><img src=\"https://colab.research.google.com/assets/colab-badge.svg\" alt=\"Open In Colab\"/></a>"
      ]
    },
    {
      "cell_type": "markdown",
      "source": [
        "# 나이브 베이즈 분류기\n",
        "\n",
        "선형모델과 유사. LogisticRegression, LinerarSVC 같은 선형 분류기보다 훈련 속도가 빠른 편이지만, 그 대신 일반화 성능이 조금 뒤쳐진다.\n",
        "\n",
        "특징은, 각 특성을 개별로 취급해 파라미터를 학습하고 각 특성에서 클래스별 통계를 단순하게 취합한다.\n",
        "scikit-learn에 구현된 나이브 베이즈 분류기는 세 가지로\n",
        "GayssianNB, BernoulliNB, MultinomialNB 가 있다.\n",
        "\n",
        "전자는 연속적인 데이터 적용\n",
        "중자는 이진 데이터\n",
        "후자는 카운트 데이터(문장에 나온 단어 카운트)\n",
        "\n",
        "즉 중,후자는 대부분 텍스트 데이터를 분류할 때 사용한다."
      ],
      "metadata": {
        "id": "EbLXjYs-dIGs"
      }
    },
    {
      "cell_type": "code",
      "source": [
        "import numpy as np"
      ],
      "metadata": {
        "id": "T1LKa59ze8PW"
      },
      "execution_count": 2,
      "outputs": []
    },
    {
      "cell_type": "code",
      "execution_count": 3,
      "metadata": {
        "id": "7wa7hmDC8Q7C"
      },
      "outputs": [],
      "source": [
        "# BernoulliNB 예시, 특성중 0이 아닌 것 몇갠지 세기\n",
        "\n",
        "X = np.array([[0, 1, 0, 1],\n",
        "              [1, 0, 1, 1],\n",
        "              [0, 0, 0, 1],\n",
        "              [1, 0, 1, 0]])\n",
        "y = np.array([0, 1, 0 ,1])"
      ]
    },
    {
      "cell_type": "code",
      "source": [
        "counts = {}\n",
        "\n",
        "for label in np.unique(y):\n",
        "  # 각 클래스에 대해 반복\n",
        "  # 특성 마다 1 이 나타난 횟수를 센다.\n",
        "  counts[label] = X[y == label].sum(axis=0)\n",
        "  \n",
        "print(\"특성 카운트: \\n\", counts)"
      ],
      "metadata": {
        "colab": {
          "base_uri": "https://localhost:8080/"
        },
        "id": "BWfV74MNfWCr",
        "outputId": "32f866c5-4492-4352-e596-3b152ab18d40"
      },
      "execution_count": 4,
      "outputs": [
        {
          "output_type": "stream",
          "name": "stdout",
          "text": [
            "특성 카운트: \n",
            " {0: array([0, 1, 0, 2]), 1: array([2, 0, 2, 1])}\n"
          ]
        }
      ]
    },
    {
      "cell_type": "code",
      "source": [
        "np.unique(y)\n",
        "# array([0, 1])"
      ],
      "metadata": {
        "colab": {
          "base_uri": "https://localhost:8080/"
        },
        "id": "t0UcxAWZf9qX",
        "outputId": "65ab29cf-550a-46c6-b2a1-027f9128c9c3"
      },
      "execution_count": 5,
      "outputs": [
        {
          "output_type": "execute_result",
          "data": {
            "text/plain": [
              "array([0, 1])"
            ]
          },
          "metadata": {},
          "execution_count": 5
        }
      ]
    }
  ]
}