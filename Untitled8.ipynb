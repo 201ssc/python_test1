{
  "nbformat": 4,
  "nbformat_minor": 0,
  "metadata": {
    "colab": {
      "name": "Untitled8.ipynb",
      "provenance": [],
      "collapsed_sections": [],
      "authorship_tag": "ABX9TyMmSipY992VVthDqXwsry9b",
      "include_colab_link": true
    },
    "kernelspec": {
      "name": "python3",
      "display_name": "Python 3"
    },
    "language_info": {
      "name": "python"
    }
  },
  "cells": [
    {
      "cell_type": "markdown",
      "metadata": {
        "id": "view-in-github",
        "colab_type": "text"
      },
      "source": [
        "<a href=\"https://colab.research.google.com/github/201ssc/python_test1/blob/main/Untitled8.ipynb\" target=\"_parent\"><img src=\"https://colab.research.google.com/assets/colab-badge.svg\" alt=\"Open In Colab\"/></a>"
      ]
    },
    {
      "cell_type": "code",
      "execution_count": 1,
      "metadata": {
        "colab": {
          "base_uri": "https://localhost:8080/"
        },
        "id": "gn7cHxpVrpKr",
        "outputId": "b91c2a40-4f35-4b38-8336-520a2b748dea"
      },
      "outputs": [
        {
          "output_type": "stream",
          "name": "stdout",
          "text": [
            "Looking in indexes: https://pypi.org/simple, https://us-python.pkg.dev/colab-wheels/public/simple/\n",
            "Requirement already satisfied: mglearn in /usr/local/lib/python3.7/dist-packages (0.1.9)\n",
            "Requirement already satisfied: scikit-learn in /usr/local/lib/python3.7/dist-packages (from mglearn) (1.0.2)\n",
            "Requirement already satisfied: imageio in /usr/local/lib/python3.7/dist-packages (from mglearn) (2.4.1)\n",
            "Requirement already satisfied: cycler in /usr/local/lib/python3.7/dist-packages (from mglearn) (0.11.0)\n",
            "Requirement already satisfied: joblib in /usr/local/lib/python3.7/dist-packages (from mglearn) (1.1.0)\n",
            "Requirement already satisfied: numpy in /usr/local/lib/python3.7/dist-packages (from mglearn) (1.21.6)\n",
            "Requirement already satisfied: pandas in /usr/local/lib/python3.7/dist-packages (from mglearn) (1.3.5)\n",
            "Requirement already satisfied: matplotlib in /usr/local/lib/python3.7/dist-packages (from mglearn) (3.2.2)\n",
            "Requirement already satisfied: pillow in /usr/local/lib/python3.7/dist-packages (from mglearn) (7.1.2)\n",
            "Requirement already satisfied: kiwisolver>=1.0.1 in /usr/local/lib/python3.7/dist-packages (from matplotlib->mglearn) (1.4.4)\n",
            "Requirement already satisfied: pyparsing!=2.0.4,!=2.1.2,!=2.1.6,>=2.0.1 in /usr/local/lib/python3.7/dist-packages (from matplotlib->mglearn) (3.0.9)\n",
            "Requirement already satisfied: python-dateutil>=2.1 in /usr/local/lib/python3.7/dist-packages (from matplotlib->mglearn) (2.8.2)\n",
            "Requirement already satisfied: typing-extensions in /usr/local/lib/python3.7/dist-packages (from kiwisolver>=1.0.1->matplotlib->mglearn) (4.1.1)\n",
            "Requirement already satisfied: six>=1.5 in /usr/local/lib/python3.7/dist-packages (from python-dateutil>=2.1->matplotlib->mglearn) (1.15.0)\n",
            "Requirement already satisfied: pytz>=2017.3 in /usr/local/lib/python3.7/dist-packages (from pandas->mglearn) (2022.1)\n",
            "Requirement already satisfied: threadpoolctl>=2.0.0 in /usr/local/lib/python3.7/dist-packages (from scikit-learn->mglearn) (3.1.0)\n",
            "Requirement already satisfied: scipy>=1.1.0 in /usr/local/lib/python3.7/dist-packages (from scikit-learn->mglearn) (1.7.3)\n"
          ]
        }
      ],
      "source": [
        "!pip install mglearn"
      ]
    },
    {
      "cell_type": "code",
      "source": [
        "import numpy as np\n",
        "import pandas as pd\n",
        "import matplotlib.pyplot as plt\n",
        "import mglearn\n",
        "import matplotlib\n",
        "\n",
        "from sklearn.model_selection import train_test_split\n",
        "\n",
        "from sklearn.datasets import load_breast_cancer\n",
        "from sklearn.datasets import make_blobs\n",
        "from sklearn.datasets import make_moons\n",
        "from sklearn.datasets import load_digits\n",
        "from sklearn.datasets import load_iris\n",
        "\n",
        "from sklearn.compose import ColumnTransformer\n",
        "\n",
        "from sklearn.preprocessing import QuantileTransformer, StandardScaler, PowerTransformer\n",
        "from sklearn.preprocessing import OneHotEncoder\n",
        "from sklearn.linear_model import LogisticRegression\n",
        "from sklearn.tree import DecisionTreeRegressor\n",
        "from sklearn.ensemble import RandomForestRegressor\n",
        "from sklearn.linear_model import Ridge\n",
        "\n",
        "import warnings\n",
        "warnings.filterwarnings('ignore')\n",
        "import seaborn as sns\n",
        "sns.set(font_scale=3)\n",
        "sns.set(rc = {'figure.figsize':(12,8)})\n",
        "\n",
        "from pandas.core.common import random_state"
      ],
      "metadata": {
        "id": "miCyeFcbrqiw"
      },
      "execution_count": 2,
      "outputs": []
    },
    {
      "cell_type": "code",
      "source": [
        "# 노트북이 코랩에서 실행 중인지 체크합니다.\n",
        "import os\n",
        "import sys\n",
        "if 'google.colab' in sys.modules and not os.path.isdir('mglearn'):\n",
        "    # 사이킷런 최신 버전을 설치합니다.\n",
        "    !pip install -q --upgrade scikit-learn\n",
        "    # mglearn을 다운받고 압축을 풉니다.\n",
        "    !wget -q -O mglearn.tar.gz https://bit.ly/mglearn-tar-gz\n",
        "    !tar -xzf mglearn.tar.gz\n",
        "    !wget -q -O data.tar.gz https://bit.ly/data-tar-gz\n",
        "    !tar -xzf data.tar.gz\n",
        "    # 나눔 폰트를 설치합니다.\n",
        "    !sudo apt-get -qq -y install fonts-nanum\n",
        "    import matplotlib.font_manager as fm\n",
        "    fm._rebuild()"
      ],
      "metadata": {
        "id": "jR6mD00arqp3"
      },
      "execution_count": 3,
      "outputs": []
    },
    {
      "cell_type": "code",
      "source": [
        "import sklearn\n",
        "from preamble import *\n",
        "import matplotlib\n",
        "\n",
        "# 나눔 폰트를 사용합니다.\n",
        "matplotlib.rc('font', family='NanumBarunGothic')\n",
        "matplotlib.rcParams['axes.unicode_minus'] = False"
      ],
      "metadata": {
        "id": "1g4QfBXCrqwn"
      },
      "execution_count": 4,
      "outputs": []
    },
    {
      "cell_type": "markdown",
      "source": [
        "# 5.2 그리드 서치\n",
        "\n",
        "아에 모델의 일반성능을 측정하였고 이젠 매개 변수를 튜닝해 일반화 성능을 개선하겠다. 매개변수 조정하기 전 그 개개변수의 의미를 이해하는 것은 중요하다 모델에서 중요 매개변수의 값을 찾는 건 어려운 작업이지만, 모든 모델과 데이터 셋에서 해야 하는 필수적인 작업이기 때문이다. scikit-learn 에서는 이를 위해 grid search 로 관심있는 매개변수들을 대상으로 가능한 모든 조합을 시도해 서치를 가능하도록 하고 있다.\n",
        "\n",
        "svc 커널에선 커널 폭 gamma 와 규제 매개변수 C를 가지고 있다. 이제 걸정 값을 다르게 해 어떤 차이가 있는 지 확인해보자. 6개씩 있어 총 조합은 36가지이다.\n",
        "\n",
        "### 5.2.1 간단한 그리드 서치\n",
        "두 매개변수 조합에 대해 분류기를 학습시키고 평가하는 간단한 그리드 서치를 for 문을 사용해 만들자"
      ],
      "metadata": {
        "id": "JNbpLhHhrq3O"
      }
    },
    {
      "cell_type": "code",
      "source": [
        "from sklearn.svm import SVC\n",
        "iris = load_iris()\n",
        "\n",
        "X_train, X_test, y_train, y_test = train_test_split(iris.data, iris.target, random_state=0)\n",
        "print(\"훈련 세트의 크기: {} 테스트 세트의 크기: {}\".format(X_train.shape[0], X_test.shape[0]))\n",
        "\n",
        "best_score = 0\n",
        "\n",
        "for gamma in [0.001, 0.01, 0.1, 1, 10, 100]:\n",
        "  for C in [0.001, 0.01, 0.1, 1, 10, 100]:\n",
        "    # 매개변수의 각 조합에 대해 svc 훈련\n",
        "    svm = SVC(gamma=gamma, C=C)\n",
        "    svm.fit(X_train, y_train)\n",
        "    # testset svc 평가\n",
        "    score = svm.score(X_test, y_test)\n",
        "    # 점수가 더 높으면 매개변수와 함께 기록\n",
        "    if score > best_score:\n",
        "      best_score = score\n",
        "      best_parameters = {\"C\":C, \"gamma\":gamma}\n",
        "\n",
        "print(\"best score : {:.2f}\".format(best_score))\n",
        "print(\"best parameters :\", best_parameters)"
      ],
      "metadata": {
        "colab": {
          "base_uri": "https://localhost:8080/"
        },
        "id": "S2_e_13wrq-X",
        "outputId": "51e9c0ce-6d5d-42de-eec9-1ad0126ca3a1"
      },
      "execution_count": 5,
      "outputs": [
        {
          "output_type": "stream",
          "name": "stdout",
          "text": [
            "훈련 세트의 크기: 112 테스트 세트의 크기: 38\n",
            "best score : 0.97\n",
            "best parameters : {'C': 100, 'gamma': 0.001}\n"
          ]
        }
      ]
    },
    {
      "cell_type": "markdown",
      "source": [
        "## 5.2.2  매개변수 과대적합과 검증 셋\n",
        "\n",
        "이 데이터셋 모델 정확도가 97%라고 했으나 다음과 같은 생각을 해볼 수 있다\n",
        "- 이 정확도는 새로운 데이터까지 이어지지 않을 수 있다\n",
        "- 모델을 만들때 사용하지 않는 데이터 셋이 필요하다.\n",
        "\n",
        "과정은 다음과 같다. 데이터를 세개의 셋으로 만든다\n",
        "1. 훈련 셋은 모델을 만든다\n",
        "2. 검증 셋은 모델 매개변수를 선택한다\n",
        "3. 선택된 매개변수의 성능을 평가한다."
      ],
      "metadata": {
        "id": "TRbS15nKrrE7"
      }
    },
    {
      "cell_type": "code",
      "source": [
        "mglearn.plots.plot_threefold_split()"
      ],
      "metadata": {
        "colab": {
          "base_uri": "https://localhost:8080/",
          "height": 179
        },
        "id": "YSR3_nE1rrL-",
        "outputId": "849dca01-8fd2-4060-f86a-8235e82aff7d"
      },
      "execution_count": 6,
      "outputs": [
        {
          "output_type": "display_data",
          "data": {
            "text/plain": [
              "<Figure size 1500x100 with 1 Axes>"
            ],
            "image/png": "[encoded data removed]",
            "application/pdf": "[encoded data removed]"
          },
          "metadata": {}
        }
      ]
    },
    {
      "cell_type": "code",
      "source": [
        "from sklearn.svm import SVC\n",
        "iris = load_iris()\n",
        "\n",
        "# 데이터를 훈련+검증 셋 그리고 테스트 셋으로 분할\n",
        "X_trainval, X_test, y_trainval, y_test = train_test_split(iris.data, iris.target, random_state=0)\n",
        "# 훈련+검증 셋을 훈련 셋와 검증 셋으로 분할\n",
        "X_train, X_valid, y_train, y_valid = train_test_split(X_trainval, y_trainval, random_state=1)\n",
        "print(\"훈련 세트의 크기: {} 검증 세트의 크기: {} 테스트 세트의 크기: {}\".format(X_train.shape[0], X_valid.shape[0], X_test.shape[0]))\n",
        "\n",
        "best_score = 0\n",
        "\n",
        "for gamma in [0.001, 0.01, 0.1, 1, 10, 100]:\n",
        "  for C in [0.001, 0.01, 0.1, 1, 10, 100]:\n",
        "    # 매개변수의 각 조합에 대해 svc 훈련\n",
        "    svm = SVC(gamma=gamma, C=C)\n",
        "    svm.fit(X_train, y_train)\n",
        "    # testset svc 평가\n",
        "    score = svm.score(X_valid, y_valid)\n",
        "    # 점수가 더 높으면 매개변수와 함께 기록\n",
        "    if score > best_score:\n",
        "      best_score = score\n",
        "      best_parameters = {\"C\":C, \"gamma\":gamma}\n",
        "\n",
        "# 훈련셋 검증 셋 합쳐 하나의 모델을 다시 만듬\n",
        "# 테스트 셋을 사용해 평가합니다.\n",
        "svm = SVC(**best_parameters)\n",
        "svm.fit(X_trainval, y_trainval)\n",
        "test_score = svm.score(X_test, y_test)\n",
        "\n",
        "print(\"best score in valid set : {:.2f}\".format(best_score))\n",
        "print(\"best parameters :\", best_parameters)\n",
        "print(\"best score in test set: {:.2f}\".format(test_score))"
      ],
      "metadata": {
        "colab": {
          "base_uri": "https://localhost:8080/"
        },
        "id": "kmNPI4JSrrTF",
        "outputId": "5742aac2-8138-4711-e6e2-fe3474d9bf27"
      },
      "execution_count": 9,
      "outputs": [
        {
          "output_type": "stream",
          "name": "stdout",
          "text": [
            "훈련 세트의 크기: 84 검증 세트의 크기: 28 테스트 세트의 크기: 38\n",
            "best score in valid set : 0.96\n",
            "best parameters : {'C': 10, 'gamma': 0.001}\n",
            "best score in test set: 0.92\n"
          ]
        }
      ]
    },
    {
      "cell_type": "code",
      "source": [
        ""
      ],
      "metadata": {
        "id": "G_kc1MEOrrgo"
      },
      "execution_count": 6,
      "outputs": []
    },
    {
      "cell_type": "code",
      "source": [
        ""
      ],
      "metadata": {
        "id": "7SyZZtCMrrqG"
      },
      "execution_count": 6,
      "outputs": []
    },
    {
      "cell_type": "code",
      "source": [
        ""
      ],
      "metadata": {
        "id": "CzfudrgrrrwP"
      },
      "execution_count": 6,
      "outputs": []
    },
    {
      "cell_type": "code",
      "source": [
        ""
      ],
      "metadata": {
        "id": "tpMaTvqyrr06"
      },
      "execution_count": 6,
      "outputs": []
    }
  ]
}