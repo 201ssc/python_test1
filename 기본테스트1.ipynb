{
  "nbformat": 4,
  "nbformat_minor": 0,
  "metadata": {
    "colab": {
      "name": "기본테스트1.ipynb",
      "provenance": [],
      "collapsed_sections": [],
      "authorship_tag": "ABX9TyOe94GMX5aIE21Y9IJvx83/",
      "include_colab_link": true
    },
    "kernelspec": {
      "name": "python3",
      "display_name": "Python 3"
    },
    "language_info": {
      "name": "python"
    }
  },
  "cells": [
    {
      "cell_type": "markdown",
      "metadata": {
        "id": "view-in-github",
        "colab_type": "text"
      },
      "source": [
        "<a href=\"https://colab.research.google.com/github/201ssc/python_test1/blob/main/%EA%B8%B0%EB%B3%B8%ED%85%8C%EC%8A%A4%ED%8A%B81.ipynb\" target=\"_parent\"><img src=\"https://colab.research.google.com/assets/colab-badge.svg\" alt=\"Open In Colab\"/></a>"
      ]
    },
    {
      "cell_type": "code",
      "execution_count": null,
      "metadata": {
        "id": "z12Ldut3lRem"
      },
      "outputs": [],
      "source": [
        ""
      ]
    },
    {
      "cell_type": "markdown",
      "source": [
        ""
      ],
      "metadata": {
        "id": "JRFOXBwSo4Sj"
      }
    },
    {
      "cell_type": "code",
      "source": [
        "def get_m(ss):\n",
        "  ll = len(ss)\n",
        "  if ll % 2 == 0:\n",
        "    a =int(ll/2)\n",
        "    print(\"짝수, {}\".format(ss[a-1:a+1]))\n",
        "  else :\n",
        "    a =int(ll/2)\n",
        "    print(\"홀수, {}\".format(ss[a]))\n",
        "\n",
        "#get_m('1230074')\n",
        "get_m('123074')"
      ],
      "metadata": {
        "id": "ed7kg8RnmPv-",
        "colab": {
          "base_uri": "https://localhost:8080/"
        },
        "outputId": "1c1542ff-b0f0-4b4e-f001-01b73c448789"
      },
      "execution_count": 160,
      "outputs": [
        {
          "output_type": "stream",
          "name": "stdout",
          "text": [
            "짝수, 30\n"
          ]
        }
      ]
    },
    {
      "cell_type": "code",
      "source": [
        "ss = '1234'\n",
        "ll = len(ss)\n",
        "a =int(ll/2)\n",
        "ss[a-1:a+1]"
      ],
      "metadata": {
        "colab": {
          "base_uri": "https://localhost:8080/",
          "height": 35
        },
        "id": "EM2Q8ro6JSlN",
        "outputId": "43104c26-3b93-4ceb-94f2-3c5ef42a6498"
      },
      "execution_count": 43,
      "outputs": [
        {
          "output_type": "execute_result",
          "data": {
            "text/plain": [
              "'23'"
            ],
            "application/vnd.google.colaboratory.intrinsic+json": {
              "type": "string"
            }
          },
          "metadata": {},
          "execution_count": 43
        }
      ]
    },
    {
      "cell_type": "markdown",
      "source": [
        "'(' 또는 ')' 로만 이루어진 문자열 s가 주어졌을 때, 문자열 s가 올바른 괄호이면 true를 return 하고, 올바르지 않은 괄호이면 false를 return 하는 solution 함수를 완성해 주세요."
      ],
      "metadata": {
        "id": "NTYW8rFSeLoU"
      }
    },
    {
      "cell_type": "markdown",
      "source": [
        "1. (()   짝이 맞질 않음\n",
        "2. ())(  밖으로 휘어짐\n"
      ],
      "metadata": {
        "id": "EoFtLaErfqhO"
      }
    },
    {
      "cell_type": "code",
      "source": [
        "a = \"()))\"\n",
        "\n",
        "if a[0] == \")\" or a[-1] == \"(\":\n",
        "  print(\"오류_A\")\n",
        "if a.count(\"(\") != a.count(\")\"):\n",
        "  print(\"오류_B\")\n",
        "\n",
        "\n"
      ],
      "metadata": {
        "colab": {
          "base_uri": "https://localhost:8080/"
        },
        "id": "i4N2J6bTeNYM",
        "outputId": "f8ec8d2c-a462-4955-e120-dfb4fe34bd2f"
      },
      "execution_count": 57,
      "outputs": [
        {
          "output_type": "stream",
          "name": "stdout",
          "text": [
            "오류_B\n"
          ]
        }
      ]
    },
    {
      "cell_type": "code",
      "source": [
        "n = '118372'\n",
        "nn = int(\"\".join(sorted(n,reverse=True)))\n",
        "nn"
      ],
      "metadata": {
        "id": "DN9Zyu_Fi1up"
      },
      "execution_count": null,
      "outputs": []
    },
    {
      "cell_type": "code",
      "source": [
        "n = \"dZafd\"\n",
        "mm= \"\".join(sorted(n,reverse=True))\n",
        "mm"
      ],
      "metadata": {
        "colab": {
          "base_uri": "https://localhost:8080/",
          "height": 35
        },
        "id": "kbe2_Fro7tht",
        "outputId": "9d222b90-8894-4740-aabd-8686610fef48"
      },
      "execution_count": 99,
      "outputs": [
        {
          "output_type": "execute_result",
          "data": {
            "text/plain": [
              "'fddaZ'"
            ],
            "application/vnd.google.colaboratory.intrinsic+json": {
              "type": "string"
            }
          },
          "metadata": {},
          "execution_count": 99
        }
      ]
    },
    {
      "cell_type": "code",
      "source": [
        "\"\"\"\n",
        "\n",
        "*****\n",
        "*****\n",
        "*****\n",
        "\n",
        "5,3\n",
        "\n",
        "a, b = map(int, input().strip().split(' '))\n",
        "print(a + b)\n",
        "\n",
        "\n",
        "b = int, input().strip().split(' ')\n",
        "\n",
        "\"\"\"\n",
        "a, b = map(int, input(\"두개의 정수를 넣어 주세요 : \").strip().split(' '))\n",
        "for i in range(b):     \n",
        "    for j in range(a):\n",
        "      print('*', end='')\n",
        "    print()"
      ],
      "metadata": {
        "colab": {
          "base_uri": "https://localhost:8080/"
        },
        "id": "xO8XFBH7lRwC",
        "outputId": "51ce1821-0cee-49eb-8e55-7acc641e7a68"
      },
      "execution_count": 150,
      "outputs": [
        {
          "output_type": "stream",
          "name": "stdout",
          "text": [
            "두개의 정수를 넣어 주세요 : 1 3\n",
            "*\n",
            "*\n",
            "*\n"
          ]
        }
      ]
    },
    {
      "cell_type": "code",
      "source": [
        ""
      ],
      "metadata": {
        "id": "fuMn5Ccpo_e9"
      },
      "execution_count": null,
      "outputs": []
    },
    {
      "cell_type": "code",
      "source": [
        "\"\"\"\n",
        "전화번호가 문자열 phone_number로 주어졌을 때, 전화번호의 뒷 4자리를 제외한 나머지 숫자를 전부 *으로 가린 문자열을 리턴하는 함수, solution을 완성해주세요.\n",
        "\n",
        "\"01033334444\"\t\"*******4444\"\n",
        "\"027778888\"\t\"*****8888\"\n",
        "\n",
        "1, 뒤에 네자리를 제외한 것을 카운트해서 *로 변경\n",
        "\n",
        "\"\"\"\n"
      ],
      "metadata": {
        "id": "BiK63IuxrgZl"
      },
      "execution_count": null,
      "outputs": []
    },
    {
      "cell_type": "code",
      "source": [
        "s = \"027778888\"\n",
        "l = list(s)\n",
        "l[:-4] = \"*\" *len(s[:-4])\n",
        "s = \"\".join(l)\n",
        "s"
      ],
      "metadata": {
        "colab": {
          "base_uri": "https://localhost:8080/",
          "height": 35
        },
        "id": "NULGJleR9h_e",
        "outputId": "7b3e50f2-2099-4d6a-95b6-a9248efd97a6"
      },
      "execution_count": 113,
      "outputs": [
        {
          "output_type": "execute_result",
          "data": {
            "text/plain": [
              "'*****8888'"
            ],
            "application/vnd.google.colaboratory.intrinsic+json": {
              "type": "string"
            }
          },
          "metadata": {},
          "execution_count": 113
        }
      ]
    },
    {
      "cell_type": "code",
      "source": [
        "\"\"\"\n",
        "[1, 4, 2]\t[5, 4, 4]\t29\n",
        "[1,2]\t[3,4]\t10\n",
        "\n",
        "길이가 같은 배열 A, B 두개가 있습니다. 각 배열은 자연수로 이루어져 있습니다.\n",
        "배열 A, B에서 각각 한 개의 숫자를 뽑아 두 수를 곱합니다. 이러한 과정을 배열의 길이만큼 반복하며, 두 수를 곱한 값을 누적하여 더합니다.\n",
        " 이때 최종적으로 누적된 값이 최소가 되도록 만드는 것이 목표입니다. (단, 각 배열에서 k번째 숫자를 뽑았다면 다음에 k번째 숫자는 다시 뽑을 수 없습니다.)\n",
        "\"\"\"\n",
        "sum =  0\n",
        "a = [1, 2]\n",
        "b = [3, 4]\n",
        "for i in  range(0, len(a)):\n",
        "  n = a[i] * b[i] \n",
        "  sum += n\n",
        "print(sum)"
      ],
      "metadata": {
        "colab": {
          "base_uri": "https://localhost:8080/"
        },
        "id": "vnZJ3ELj9qns",
        "outputId": "fac3a97e-b5d7-4f48-fda6-abc732c54d13"
      },
      "execution_count": 121,
      "outputs": [
        {
          "output_type": "stream",
          "name": "stdout",
          "text": [
            "11\n"
          ]
        }
      ]
    },
    {
      "cell_type": "code",
      "source": [
        "\"\"\"\n",
        "\n",
        "레오 카펫\n",
        "\n",
        "brown\tyellow\treturn\n",
        "10\t2\t  [4, 3]\n",
        "8\t  1\t  [3, 3]\n",
        "24\t24\t[8, 6]\n",
        "\n",
        "\n",
        "노 + 갈 약수 \n",
        "a b\n",
        "2a + 2b - 4 = 갈색의 총합\n",
        "\n",
        "\n",
        "\"\"\"\n",
        "\n",
        "b = 24\n",
        "y = 24 \n",
        "num = b+y\n",
        "\n",
        "for i in range(1, int(num**(1/2))+1):\n",
        "  if num % i == 0:\n",
        "    if b == 2*(i + num // i) -4:\n",
        "      print(\"약수 발견 : {}, {}\".format(num // i,i))\n"
      ],
      "metadata": {
        "colab": {
          "base_uri": "https://localhost:8080/"
        },
        "id": "HQgi5AMBHsfd",
        "outputId": "9d4f7346-e9ef-494c-b99c-57bbcaef401b"
      },
      "execution_count": 162,
      "outputs": [
        {
          "output_type": "stream",
          "name": "stdout",
          "text": [
            "약수 발견 : 8, 6\n"
          ]
        }
      ]
    },
    {
      "cell_type": "code",
      "source": [
        "num = 81\n",
        "for i in range(1, int(num**(1/2))+1):\n",
        "  print(i)"
      ],
      "metadata": {
        "id": "cl1pKiEeMIL2"
      },
      "execution_count": null,
      "outputs": []
    },
    {
      "cell_type": "code",
      "source": [
        "\"\"\"\n",
        "효진이는 멀리 뛰기를 연습하고 있습니다. 효진이는 한번에 1칸, 또는 2칸을 뛸 수 있습니다. 칸이 총 4개 있을 때, 효진이는\n",
        "(1칸, 1칸, 1칸, 1칸)\n",
        "(1칸, 2칸, 1칸)\n",
        "(1칸, 1칸, 2칸)\n",
        "(2칸, 1칸, 1칸)\n",
        "(2칸, 2칸)\n",
        "의 5가지 방법으로 맨 끝 칸에 도달할 수 있습니다. 멀리뛰기에 사용될 칸의 수 n이 주어질 때, 효진이가 끝에 도달하는 방법이 몇 가지인지 알아내, \n",
        "여기에 1234567를 나눈 나머지를 리턴하는 함수, solution을 완성하세요. 예를 들어 4가 입력된다면, 5를 return하면 됩니다.\n",
        "\n",
        "\n",
        "3\n",
        " 2\n",
        " 3/111\n",
        "\n",
        "4\n",
        " 2 22\n",
        " 3\n",
        " 4/1111\n",
        "\n",
        "5\n",
        " 3 (2로 나눈 나머지 보단 커야함) 22 1\n",
        " 4 1112\n",
        " 5/1111\n",
        "\n",
        "6\n",
        " 3 2 2 2\n",
        " 4 2211 \n",
        " 5\n",
        " 6\n",
        "\n",
        "10\n",
        " 5 22222\n",
        "\n",
        "\n",
        "\n",
        "\"\"\""
      ],
      "metadata": {
        "id": "7rKm-MRkGxMb"
      },
      "execution_count": null,
      "outputs": []
    },
    {
      "cell_type": "code",
      "source": [
        ""
      ],
      "metadata": {
        "colab": {
          "base_uri": "https://localhost:8080/"
        },
        "id": "YEILt_euJI8r",
        "outputId": "2d1c6d24-ae72-4f33-eab4-0ca7009ecb66"
      },
      "execution_count": 42,
      "outputs": [
        {
          "output_type": "execute_result",
          "data": {
            "text/plain": [
              "[1, 1, 0, 0, 0]"
            ]
          },
          "metadata": {},
          "execution_count": 42
        }
      ]
    },
    {
      "cell_type": "code",
      "source": [
        "n = 4\n",
        "m = 4 // 2\n",
        "a=[1,2]\n",
        "for i in range(m,n+1): # 2 3 4\n",
        "  #print(i)\n",
        "  for j in list(permutations(a, i)):\n",
        "    print(j)"
      ],
      "metadata": {
        "id": "-AKUIjBDLZig"
      },
      "execution_count": null,
      "outputs": []
    },
    {
      "cell_type": "code",
      "source": [
        "a = [1, 2]\n",
        "b =list(permutations(a, 2))\n",
        "for j in list(permutations(a, 3)):\n",
        "  print(j)"
      ],
      "metadata": {
        "id": "gmuuVuW7K6b2"
      },
      "execution_count": 35,
      "outputs": []
    },
    {
      "cell_type": "code",
      "source": [
        "\"\"\"\n",
        "문제 설명\n",
        "주차장의 요금표와 차량이 들어오고(입차) 나간(출차) 기록이 주어졌을 때, 차량별로 주차 요금을 계산하려고 합니다. 아래는 하나의 예시를 나타냅니다.\n",
        "\n",
        "요금표\n",
        "기본 시간(분)\t  기본 요금(원)\t  단위 시간(분)\t    단위 요금(원)\n",
        "   180\t           5000               10       \t      600\n",
        "\n",
        "\n",
        "입/출차 기록\n",
        "시각(시:분)\t차량 번호\t내역\n",
        "05:34     \t 5961 \t입차\n",
        "06:00\t       0000\t  입차\n",
        "06:34\t       0000\t  출차\n",
        "07:59 \t     5961  \t출차\n",
        "07:59\t       0148\t  입차\n",
        "18:59\t      0000  \t입차\n",
        "19:09\t      0148\t  출차\n",
        "22:59 \t    5961\t  입차\n",
        "23:00\t      5961\t  출차\n",
        " \n",
        "https://jsikim1.tistory.com/264\n",
        "\"\"\""
      ],
      "metadata": {
        "id": "fpd-ZyGaNwwu"
      },
      "execution_count": null,
      "outputs": []
    },
    {
      "cell_type": "markdown",
      "source": [
        "![image.png](data:image/png;base64,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)![image.png]()"
      ],
      "metadata": {
        "id": "sQ9uZhfiOs8h"
      }
    }
  ]
}